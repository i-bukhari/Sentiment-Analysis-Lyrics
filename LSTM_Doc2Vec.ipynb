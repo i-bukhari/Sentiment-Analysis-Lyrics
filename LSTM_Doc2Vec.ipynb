{
  "cells": [
    {
      "cell_type": "markdown",
      "metadata": {
        "id": "view-in-github",
        "colab_type": "text"
      },
      "source": [
        "<a href=\"https://colab.research.google.com/github/i-bukhari/Sentiment-Analysis-Lyrics/blob/main/LSTM_Doc2Vec.ipynb\" target=\"_parent\"><img src=\"https://colab.research.google.com/assets/colab-badge.svg\" alt=\"Open In Colab\"/></a>"
      ]
    },
    {
      "cell_type": "markdown",
      "source": [
        "This notebook demonstrates the implementation of a sentiment analysis model on song lyrics using a combination of Long Short-Term Memory (LSTM) networks and Doc2Vec embeddings. It includes data preprocessing steps, model training, and evaluation to classify the lyrics as positive or negative based on valence scores.\n"
      ],
      "metadata": {
        "id": "UGunpx13VsHk"
      },
      "id": "UGunpx13VsHk"
    },
    {
      "cell_type": "markdown",
      "id": "99445462",
      "metadata": {
        "id": "99445462"
      },
      "source": [
        "# Data Preprocessing"
      ]
    },
    {
      "cell_type": "code",
      "source": [
        "!pip install langdetect"
      ],
      "metadata": {
        "id": "qafEcWIMYMPH",
        "colab": {
          "base_uri": "https://localhost:8080/"
        },
        "outputId": "fd957059-36eb-41df-bed1-9c350a44daaf"
      },
      "id": "qafEcWIMYMPH",
      "execution_count": null,
      "outputs": [
        {
          "output_type": "stream",
          "name": "stdout",
          "text": [
            "Collecting langdetect\n",
            "  Downloading langdetect-1.0.9.tar.gz (981 kB)\n",
            "\u001b[2K     \u001b[90m━━━━━━━━━━━━━━━━━━━━━━━━━━━━━━━━━━━━━━━━\u001b[0m \u001b[32m981.5/981.5 kB\u001b[0m \u001b[31m5.7 MB/s\u001b[0m eta \u001b[36m0:00:00\u001b[0m\n",
            "\u001b[?25h  Preparing metadata (setup.py) ... \u001b[?25l\u001b[?25hdone\n",
            "Requirement already satisfied: six in /usr/local/lib/python3.10/dist-packages (from langdetect) (1.16.0)\n",
            "Building wheels for collected packages: langdetect\n",
            "  Building wheel for langdetect (setup.py) ... \u001b[?25l\u001b[?25hdone\n",
            "  Created wheel for langdetect: filename=langdetect-1.0.9-py3-none-any.whl size=993227 sha256=53a25b37639fbb3b9477a324aa4bccda3b4fc38d68ee1df9c069140de87815ec\n",
            "  Stored in directory: /root/.cache/pip/wheels/95/03/7d/59ea870c70ce4e5a370638b5462a7711ab78fba2f655d05106\n",
            "Successfully built langdetect\n",
            "Installing collected packages: langdetect\n",
            "Successfully installed langdetect-1.0.9\n"
          ]
        }
      ]
    },
    {
      "cell_type": "code",
      "execution_count": null,
      "id": "16536a8d",
      "metadata": {
        "id": "16536a8d"
      },
      "outputs": [],
      "source": [
        "import pandas as pd\n",
        "from langdetect import detect\n",
        "import nltk\n",
        "import torch"
      ]
    },
    {
      "cell_type": "code",
      "source": [
        "# Make sure you're using cuda (GPU) by checking the hardware accelerator under Runtime -> Change runtime type\n",
        "device = torch.device(\"cuda\" if torch.cuda.is_available() else \"cpu\")\n",
        "print(\"We're using:\", device)"
      ],
      "metadata": {
        "colab": {
          "base_uri": "https://localhost:8080/"
        },
        "id": "kkLkoQm08Br6",
        "outputId": "c36bec7d-67c6-4704-d69c-eaa77ec31d42"
      },
      "id": "kkLkoQm08Br6",
      "execution_count": null,
      "outputs": [
        {
          "output_type": "stream",
          "name": "stdout",
          "text": [
            "We're using: cuda\n"
          ]
        }
      ]
    },
    {
      "cell_type": "markdown",
      "source": [
        "##Removing Empty Lyrics and Non-english Lyrics"
      ],
      "metadata": {
        "id": "FIewsO65C9K9"
      },
      "id": "FIewsO65C9K9"
    },
    {
      "cell_type": "code",
      "execution_count": null,
      "id": "119f847e",
      "metadata": {
        "id": "119f847e"
      },
      "outputs": [],
      "source": [
        "def is_english(text):\n",
        "    try:\n",
        "        lang = detect(text)\n",
        "        return lang == 'en'\n",
        "    except:\n",
        "        # If langdetect encounters an error (e.g., short text), return False\n",
        "        return False\n",
        "def lang(text):\n",
        "    if is_english(text):\n",
        "        return 1\n",
        "    else:\n",
        "        return"
      ]
    },
    {
      "cell_type": "code",
      "execution_count": null,
      "id": "52e2ae44",
      "metadata": {
        "id": "52e2ae44"
      },
      "outputs": [],
      "source": [
        "original_df = pd.read_csv('muse_v3_with_lyrics_filled.csv') #upload csv manually!!\n",
        "data = original_df[['lyric','valence_tags']]\n",
        "data = data.dropna(subset=['lyric'])\n",
        "data['lang'] = data['lyric'].apply(lang)\n",
        "data = data.dropna(subset=['lang'])"
      ]
    },
    {
      "cell_type": "code",
      "source": [
        "data = pd.read_csv('balanced.csv')"
      ],
      "metadata": {
        "id": "-sl_bvgr5U_s"
      },
      "id": "-sl_bvgr5U_s",
      "execution_count": null,
      "outputs": []
    },
    {
      "cell_type": "code",
      "execution_count": null,
      "id": "2b8bc0a1",
      "metadata": {
        "id": "2b8bc0a1",
        "colab": {
          "base_uri": "https://localhost:8080/",
          "height": 423
        },
        "outputId": "a1a7aaad-3d7c-4026-83b0-b08a3758b086"
      },
      "outputs": [
        {
          "output_type": "execute_result",
          "data": {
            "text/plain": [
              "       valence_tags  positivity  \\\n",
              "0          3.000000           0   \n",
              "1          3.858696           0   \n",
              "2          7.616667           1   \n",
              "3          6.685000           1   \n",
              "4          3.240000           0   \n",
              "...             ...         ...   \n",
              "16841      7.807083           1   \n",
              "16842      5.998475           1   \n",
              "16843      3.160000           0   \n",
              "16844      2.530000           0   \n",
              "16845      8.470000           1   \n",
              "\n",
              "                                                  lyrics  \n",
              "0      [Verse 1]. From the haunts of daily life. Wher...  \n",
              "1      I was waiting for a mermaid to appear. Saying ...  \n",
              "2      [Verse 1]. I waited for you winterlong. You se...  \n",
              "3      The world is giving you the run around. It lea...  \n",
              "4      [Verse 1]. You know what they say. That everyt...  \n",
              "...                                                  ...  \n",
              "16841  If we received a warning call. Would we change...  \n",
              "16842  [Verse 1]. I know so many. Places in the world...  \n",
              "16843  I bring you death. And steal your breath. I am...  \n",
              "16844  Close your eyes, we're coming down. Close your...  \n",
              "16845  In the backyard. In the living room. Residenti...  \n",
              "\n",
              "[16846 rows x 3 columns]"
            ],
            "text/html": [
              "\n",
              "  <div id=\"df-d7b1fd36-3efe-48b8-a416-354f1cf6978e\" class=\"colab-df-container\">\n",
              "    <div>\n",
              "<style scoped>\n",
              "    .dataframe tbody tr th:only-of-type {\n",
              "        vertical-align: middle;\n",
              "    }\n",
              "\n",
              "    .dataframe tbody tr th {\n",
              "        vertical-align: top;\n",
              "    }\n",
              "\n",
              "    .dataframe thead th {\n",
              "        text-align: right;\n",
              "    }\n",
              "</style>\n",
              "<table border=\"1\" class=\"dataframe\">\n",
              "  <thead>\n",
              "    <tr style=\"text-align: right;\">\n",
              "      <th></th>\n",
              "      <th>valence_tags</th>\n",
              "      <th>positivity</th>\n",
              "      <th>lyrics</th>\n",
              "    </tr>\n",
              "  </thead>\n",
              "  <tbody>\n",
              "    <tr>\n",
              "      <th>0</th>\n",
              "      <td>3.000000</td>\n",
              "      <td>0</td>\n",
              "      <td>[Verse 1]. From the haunts of daily life. Wher...</td>\n",
              "    </tr>\n",
              "    <tr>\n",
              "      <th>1</th>\n",
              "      <td>3.858696</td>\n",
              "      <td>0</td>\n",
              "      <td>I was waiting for a mermaid to appear. Saying ...</td>\n",
              "    </tr>\n",
              "    <tr>\n",
              "      <th>2</th>\n",
              "      <td>7.616667</td>\n",
              "      <td>1</td>\n",
              "      <td>[Verse 1]. I waited for you winterlong. You se...</td>\n",
              "    </tr>\n",
              "    <tr>\n",
              "      <th>3</th>\n",
              "      <td>6.685000</td>\n",
              "      <td>1</td>\n",
              "      <td>The world is giving you the run around. It lea...</td>\n",
              "    </tr>\n",
              "    <tr>\n",
              "      <th>4</th>\n",
              "      <td>3.240000</td>\n",
              "      <td>0</td>\n",
              "      <td>[Verse 1]. You know what they say. That everyt...</td>\n",
              "    </tr>\n",
              "    <tr>\n",
              "      <th>...</th>\n",
              "      <td>...</td>\n",
              "      <td>...</td>\n",
              "      <td>...</td>\n",
              "    </tr>\n",
              "    <tr>\n",
              "      <th>16841</th>\n",
              "      <td>7.807083</td>\n",
              "      <td>1</td>\n",
              "      <td>If we received a warning call. Would we change...</td>\n",
              "    </tr>\n",
              "    <tr>\n",
              "      <th>16842</th>\n",
              "      <td>5.998475</td>\n",
              "      <td>1</td>\n",
              "      <td>[Verse 1]. I know so many. Places in the world...</td>\n",
              "    </tr>\n",
              "    <tr>\n",
              "      <th>16843</th>\n",
              "      <td>3.160000</td>\n",
              "      <td>0</td>\n",
              "      <td>I bring you death. And steal your breath. I am...</td>\n",
              "    </tr>\n",
              "    <tr>\n",
              "      <th>16844</th>\n",
              "      <td>2.530000</td>\n",
              "      <td>0</td>\n",
              "      <td>Close your eyes, we're coming down. Close your...</td>\n",
              "    </tr>\n",
              "    <tr>\n",
              "      <th>16845</th>\n",
              "      <td>8.470000</td>\n",
              "      <td>1</td>\n",
              "      <td>In the backyard. In the living room. Residenti...</td>\n",
              "    </tr>\n",
              "  </tbody>\n",
              "</table>\n",
              "<p>16846 rows × 3 columns</p>\n",
              "</div>\n",
              "    <div class=\"colab-df-buttons\">\n",
              "\n",
              "  <div class=\"colab-df-container\">\n",
              "    <button class=\"colab-df-convert\" onclick=\"convertToInteractive('df-d7b1fd36-3efe-48b8-a416-354f1cf6978e')\"\n",
              "            title=\"Convert this dataframe to an interactive table.\"\n",
              "            style=\"display:none;\">\n",
              "\n",
              "  <svg xmlns=\"http://www.w3.org/2000/svg\" height=\"24px\" viewBox=\"0 -960 960 960\">\n",
              "    <path d=\"M120-120v-720h720v720H120Zm60-500h600v-160H180v160Zm220 220h160v-160H400v160Zm0 220h160v-160H400v160ZM180-400h160v-160H180v160Zm440 0h160v-160H620v160ZM180-180h160v-160H180v160Zm440 0h160v-160H620v160Z\"/>\n",
              "  </svg>\n",
              "    </button>\n",
              "\n",
              "  <style>\n",
              "    .colab-df-container {\n",
              "      display:flex;\n",
              "      gap: 12px;\n",
              "    }\n",
              "\n",
              "    .colab-df-convert {\n",
              "      background-color: #E8F0FE;\n",
              "      border: none;\n",
              "      border-radius: 50%;\n",
              "      cursor: pointer;\n",
              "      display: none;\n",
              "      fill: #1967D2;\n",
              "      height: 32px;\n",
              "      padding: 0 0 0 0;\n",
              "      width: 32px;\n",
              "    }\n",
              "\n",
              "    .colab-df-convert:hover {\n",
              "      background-color: #E2EBFA;\n",
              "      box-shadow: 0px 1px 2px rgba(60, 64, 67, 0.3), 0px 1px 3px 1px rgba(60, 64, 67, 0.15);\n",
              "      fill: #174EA6;\n",
              "    }\n",
              "\n",
              "    .colab-df-buttons div {\n",
              "      margin-bottom: 4px;\n",
              "    }\n",
              "\n",
              "    [theme=dark] .colab-df-convert {\n",
              "      background-color: #3B4455;\n",
              "      fill: #D2E3FC;\n",
              "    }\n",
              "\n",
              "    [theme=dark] .colab-df-convert:hover {\n",
              "      background-color: #434B5C;\n",
              "      box-shadow: 0px 1px 3px 1px rgba(0, 0, 0, 0.15);\n",
              "      filter: drop-shadow(0px 1px 2px rgba(0, 0, 0, 0.3));\n",
              "      fill: #FFFFFF;\n",
              "    }\n",
              "  </style>\n",
              "\n",
              "    <script>\n",
              "      const buttonEl =\n",
              "        document.querySelector('#df-d7b1fd36-3efe-48b8-a416-354f1cf6978e button.colab-df-convert');\n",
              "      buttonEl.style.display =\n",
              "        google.colab.kernel.accessAllowed ? 'block' : 'none';\n",
              "\n",
              "      async function convertToInteractive(key) {\n",
              "        const element = document.querySelector('#df-d7b1fd36-3efe-48b8-a416-354f1cf6978e');\n",
              "        const dataTable =\n",
              "          await google.colab.kernel.invokeFunction('convertToInteractive',\n",
              "                                                    [key], {});\n",
              "        if (!dataTable) return;\n",
              "\n",
              "        const docLinkHtml = 'Like what you see? Visit the ' +\n",
              "          '<a target=\"_blank\" href=https://colab.research.google.com/notebooks/data_table.ipynb>data table notebook</a>'\n",
              "          + ' to learn more about interactive tables.';\n",
              "        element.innerHTML = '';\n",
              "        dataTable['output_type'] = 'display_data';\n",
              "        await google.colab.output.renderOutput(dataTable, element);\n",
              "        const docLink = document.createElement('div');\n",
              "        docLink.innerHTML = docLinkHtml;\n",
              "        element.appendChild(docLink);\n",
              "      }\n",
              "    </script>\n",
              "  </div>\n",
              "\n",
              "\n",
              "<div id=\"df-027a5d1a-6c53-4df1-9379-e8534608e631\">\n",
              "  <button class=\"colab-df-quickchart\" onclick=\"quickchart('df-027a5d1a-6c53-4df1-9379-e8534608e631')\"\n",
              "            title=\"Suggest charts\"\n",
              "            style=\"display:none;\">\n",
              "\n",
              "<svg xmlns=\"http://www.w3.org/2000/svg\" height=\"24px\"viewBox=\"0 0 24 24\"\n",
              "     width=\"24px\">\n",
              "    <g>\n",
              "        <path d=\"M19 3H5c-1.1 0-2 .9-2 2v14c0 1.1.9 2 2 2h14c1.1 0 2-.9 2-2V5c0-1.1-.9-2-2-2zM9 17H7v-7h2v7zm4 0h-2V7h2v10zm4 0h-2v-4h2v4z\"/>\n",
              "    </g>\n",
              "</svg>\n",
              "  </button>\n",
              "\n",
              "<style>\n",
              "  .colab-df-quickchart {\n",
              "      --bg-color: #E8F0FE;\n",
              "      --fill-color: #1967D2;\n",
              "      --hover-bg-color: #E2EBFA;\n",
              "      --hover-fill-color: #174EA6;\n",
              "      --disabled-fill-color: #AAA;\n",
              "      --disabled-bg-color: #DDD;\n",
              "  }\n",
              "\n",
              "  [theme=dark] .colab-df-quickchart {\n",
              "      --bg-color: #3B4455;\n",
              "      --fill-color: #D2E3FC;\n",
              "      --hover-bg-color: #434B5C;\n",
              "      --hover-fill-color: #FFFFFF;\n",
              "      --disabled-bg-color: #3B4455;\n",
              "      --disabled-fill-color: #666;\n",
              "  }\n",
              "\n",
              "  .colab-df-quickchart {\n",
              "    background-color: var(--bg-color);\n",
              "    border: none;\n",
              "    border-radius: 50%;\n",
              "    cursor: pointer;\n",
              "    display: none;\n",
              "    fill: var(--fill-color);\n",
              "    height: 32px;\n",
              "    padding: 0;\n",
              "    width: 32px;\n",
              "  }\n",
              "\n",
              "  .colab-df-quickchart:hover {\n",
              "    background-color: var(--hover-bg-color);\n",
              "    box-shadow: 0 1px 2px rgba(60, 64, 67, 0.3), 0 1px 3px 1px rgba(60, 64, 67, 0.15);\n",
              "    fill: var(--button-hover-fill-color);\n",
              "  }\n",
              "\n",
              "  .colab-df-quickchart-complete:disabled,\n",
              "  .colab-df-quickchart-complete:disabled:hover {\n",
              "    background-color: var(--disabled-bg-color);\n",
              "    fill: var(--disabled-fill-color);\n",
              "    box-shadow: none;\n",
              "  }\n",
              "\n",
              "  .colab-df-spinner {\n",
              "    border: 2px solid var(--fill-color);\n",
              "    border-color: transparent;\n",
              "    border-bottom-color: var(--fill-color);\n",
              "    animation:\n",
              "      spin 1s steps(1) infinite;\n",
              "  }\n",
              "\n",
              "  @keyframes spin {\n",
              "    0% {\n",
              "      border-color: transparent;\n",
              "      border-bottom-color: var(--fill-color);\n",
              "      border-left-color: var(--fill-color);\n",
              "    }\n",
              "    20% {\n",
              "      border-color: transparent;\n",
              "      border-left-color: var(--fill-color);\n",
              "      border-top-color: var(--fill-color);\n",
              "    }\n",
              "    30% {\n",
              "      border-color: transparent;\n",
              "      border-left-color: var(--fill-color);\n",
              "      border-top-color: var(--fill-color);\n",
              "      border-right-color: var(--fill-color);\n",
              "    }\n",
              "    40% {\n",
              "      border-color: transparent;\n",
              "      border-right-color: var(--fill-color);\n",
              "      border-top-color: var(--fill-color);\n",
              "    }\n",
              "    60% {\n",
              "      border-color: transparent;\n",
              "      border-right-color: var(--fill-color);\n",
              "    }\n",
              "    80% {\n",
              "      border-color: transparent;\n",
              "      border-right-color: var(--fill-color);\n",
              "      border-bottom-color: var(--fill-color);\n",
              "    }\n",
              "    90% {\n",
              "      border-color: transparent;\n",
              "      border-bottom-color: var(--fill-color);\n",
              "    }\n",
              "  }\n",
              "</style>\n",
              "\n",
              "  <script>\n",
              "    async function quickchart(key) {\n",
              "      const quickchartButtonEl =\n",
              "        document.querySelector('#' + key + ' button');\n",
              "      quickchartButtonEl.disabled = true;  // To prevent multiple clicks.\n",
              "      quickchartButtonEl.classList.add('colab-df-spinner');\n",
              "      try {\n",
              "        const charts = await google.colab.kernel.invokeFunction(\n",
              "            'suggestCharts', [key], {});\n",
              "      } catch (error) {\n",
              "        console.error('Error during call to suggestCharts:', error);\n",
              "      }\n",
              "      quickchartButtonEl.classList.remove('colab-df-spinner');\n",
              "      quickchartButtonEl.classList.add('colab-df-quickchart-complete');\n",
              "    }\n",
              "    (() => {\n",
              "      let quickchartButtonEl =\n",
              "        document.querySelector('#df-027a5d1a-6c53-4df1-9379-e8534608e631 button');\n",
              "      quickchartButtonEl.style.display =\n",
              "        google.colab.kernel.accessAllowed ? 'block' : 'none';\n",
              "    })();\n",
              "  </script>\n",
              "</div>\n",
              "    </div>\n",
              "  </div>\n"
            ],
            "application/vnd.google.colaboratory.intrinsic+json": {
              "type": "dataframe",
              "variable_name": "data",
              "summary": "{\n  \"name\": \"data\",\n  \"rows\": 16846,\n  \"fields\": [\n    {\n      \"column\": \"valence_tags\",\n      \"properties\": {\n        \"dtype\": \"number\",\n        \"std\": 1.6704655510175694,\n        \"min\": 0.235,\n        \"max\": 8.47,\n        \"num_unique_values\": 8657,\n        \"samples\": [\n          5.35625,\n          3.32,\n          2.676960784\n        ],\n        \"semantic_type\": \"\",\n        \"description\": \"\"\n      }\n    },\n    {\n      \"column\": \"positivity\",\n      \"properties\": {\n        \"dtype\": \"number\",\n        \"std\": 0,\n        \"min\": 0,\n        \"max\": 1,\n        \"num_unique_values\": 2,\n        \"samples\": [\n          1,\n          0\n        ],\n        \"semantic_type\": \"\",\n        \"description\": \"\"\n      }\n    },\n    {\n      \"column\": \"lyrics\",\n      \"properties\": {\n        \"dtype\": \"string\",\n        \"num_unique_values\": 16843,\n        \"samples\": [\n          \"[Verse 1]. I'm getting lost in your curls. I'm drawing pictures on your skin. So soft it twirls. I like your looks when you get mean. I know I shouldn't say so but when you claw me like a cat. I'm beaming. I like the way you squeeze my hand. Pulling me into another dream. A lucid dream. I'm getting lost in your curls. I'm getting crushed out on the things that only I should see. . [Pre-Chorus]. And not for boys, they're just for me. Hurry to talk from far away. I can see you, you curl your fists and you pull your hair. When we're alone I wanna say. Let's just stay in. No one's here in our apartment, babe. [Chorus]. Put on the dress that I like. It makes me so crazy though I can't say why. Keep on your stockings for a while. Some kind of magic in the way you're lying there. . [Verse 2]. I'm getting lost in your curls. I'm getting rushed back on a whim. Our breaths get wind. Back to the time when we were green. I know we have changed but I still grin. Cause I can't wait to see you. Back to the time I touched your hair. When I was so scared to look that mean, I think it's weird. I'm getting lost in your curls. I'm getting crushed out on the things that only I should see. . [Pre-Chorus]. They're not for boys, they're just for me. Girl, we could talk far away. It's so hard for me only to get the urge to kiss you there. When we're alone I wanna say. Let's just stay in. No one's here in our apartment, babe. [Chorus]. Put on the dress that I like. It makes me so crazy though I can't say why. Keep on your stockings for a while. Some kind of magic in the way you're lying there. Put on the dress that I like. It makes me so crazy though I can't say why. Keep on your stockings for a while. Some kind of magic in the way you talk about your. . [Outro]. Blue eyeshadow, it's not exactly blue, no. But you refuse to call it anything but your blue\",\n          \"It's a long time since I saw you last. Tell me how you've been. Did you ever get to buy that yellow coat?. Do the flowers in your window box. Still smile when you walk in?. Did you ever read the letters that I wrote?. And I've been on the road since Christmas. But it don't seem so long. Outside of that there isn't much to say. I cut down on my drinkin'. And I wrote another song. I wish you wouldn't look at me that way. Remember all the mornings. That we walked around the park. The nights we babysat for Billy's kids. And all the times we used to talk. Of having one ourselves. I don't remember why we never did. Do your neighbors still complain a bit. When the music gets too loud?. Does your old cat still sleep up on the bed?. Do you still walk around. As if your head was in the clouds?. Have you heard a single thing I've said?. And it's a two day drive to New York. I guess I'd better go. Did you notice that the weather's gettin' cold?. And it's a long time since I saw you last. And tell me how you've been. Did you ever get to buy that yellow coat?. Did you ever get to buy that yellow coat?\"\n        ],\n        \"semantic_type\": \"\",\n        \"description\": \"\"\n      }\n    }\n  ]\n}"
            }
          },
          "metadata": {},
          "execution_count": 9
        }
      ],
      "source": [
        "data"
      ]
    },
    {
      "cell_type": "markdown",
      "id": "3b354b70",
      "metadata": {
        "id": "3b354b70"
      },
      "source": [
        "# Tokenization"
      ]
    },
    {
      "cell_type": "code",
      "execution_count": null,
      "id": "1fd6ec96",
      "metadata": {
        "id": "1fd6ec96",
        "outputId": "8691c61f-6e78-44c0-f411-a78d122e20d9",
        "colab": {
          "base_uri": "https://localhost:8080/"
        }
      },
      "outputs": [
        {
          "output_type": "stream",
          "name": "stderr",
          "text": [
            "[nltk_data] Downloading package stopwords to /root/nltk_data...\n",
            "[nltk_data]   Unzipping corpora/stopwords.zip.\n"
          ]
        }
      ],
      "source": [
        "import nltk\n",
        "from nltk.corpus import stopwords\n",
        "import string\n",
        "import re\n",
        "nltk.download('stopwords')\n",
        "stop_words = set(stopwords.words('english'))"
      ]
    },
    {
      "cell_type": "code",
      "execution_count": null,
      "id": "0e5c9fe4",
      "metadata": {
        "id": "0e5c9fe4"
      },
      "outputs": [],
      "source": [
        "def tokenization(text, remove_digits=True):\n",
        "    pattern = r'[^a-zA-Z\\s]' if remove_digits else r'[^a-zA-Z0-9\\s]'\n",
        "    text = re.sub(pattern, '', text)\n",
        "    modified_text = text.replace('[','').replace(']', '').replace(':','').replace('!','').replace(',','').replace('.','')\n",
        "    tokens = modified_text.lower().split()\n",
        "    additional_words_to_remove = [\"intro\", \"verse\", \"outro\", \"chorus\",\"i\",\"1\",\"and\",\"ill\",\"2\",\"3\",\"4\",\"5\", \"yeah\",\"ya\",\n",
        "                                  \"na\",\"wan\",\"uh\",\"gon\",\"ima\",\"mm\",\"uhhuh\",\"bout\",\"em\",\"nigga\",\"niggas\",\"got\",\"ta\",\"lil\",\n",
        "                                  \"ol\",\"hey\", \"oooh\",\"ooh\",\"oh\",\"youre\",\"dont\",\"im\",\"youve\",\"ive\",\"theres\",\"ill\",\"yaka\",\n",
        "                                  \"lalalala\",\"la\",\"da\",\"di\",\"yuh\", \"shawty\",\"oohooh\",\"shoorah\",\"mmmmmm\",\"ook\",\"bidibambambambam\",\n",
        "                                  \"shh\",\"bro\",\"ho\",\"aint\",\"cant\",\"know\",\"bambam\", \"shitll\",\"tonka\"]\n",
        "    filtered_tokens = []\n",
        "    for word in tokens:\n",
        "        if word not in additional_words_to_remove and word not in string.punctuation:\n",
        "            filtered_tokens.append(word)\n",
        "    return filtered_tokens\n",
        "\n",
        "data['tokens'] = data['lyrics'].apply(tokenization)"
      ]
    },
    {
      "cell_type": "code",
      "execution_count": null,
      "id": "7a1fae72",
      "metadata": {
        "id": "7a1fae72",
        "outputId": "6ccef224-830d-4c8c-895b-43b8e4ee3f29",
        "colab": {
          "base_uri": "https://localhost:8080/",
          "height": 423
        }
      },
      "outputs": [
        {
          "output_type": "execute_result",
          "data": {
            "text/plain": [
              "       valence_tags  positivity  \\\n",
              "0          3.000000           0   \n",
              "1          3.858696           0   \n",
              "2          7.616667           1   \n",
              "3          6.685000           1   \n",
              "4          3.240000           0   \n",
              "...             ...         ...   \n",
              "16841      7.807083           1   \n",
              "16842      5.998475           1   \n",
              "16843      3.160000           0   \n",
              "16844      2.530000           0   \n",
              "16845      8.470000           1   \n",
              "\n",
              "                                                  lyrics  \\\n",
              "0      [Verse 1]. From the haunts of daily life. Wher...   \n",
              "1      I was waiting for a mermaid to appear. Saying ...   \n",
              "2      [Verse 1]. I waited for you winterlong. You se...   \n",
              "3      The world is giving you the run around. It lea...   \n",
              "4      [Verse 1]. You know what they say. That everyt...   \n",
              "...                                                  ...   \n",
              "16841  If we received a warning call. Would we change...   \n",
              "16842  [Verse 1]. I know so many. Places in the world...   \n",
              "16843  I bring you death. And steal your breath. I am...   \n",
              "16844  Close your eyes, we're coming down. Close your...   \n",
              "16845  In the backyard. In the living room. Residenti...   \n",
              "\n",
              "                                                  tokens  \n",
              "0      [from, the, haunts, of, daily, life, where, is...  \n",
              "1      [was, waiting, for, a, mermaid, to, appear, sa...  \n",
              "2      [waited, for, you, winterlong, you, seem, to, ...  \n",
              "3      [the, world, is, giving, you, the, run, around...  \n",
              "4      [you, what, they, say, that, everything, in, y...  \n",
              "...                                                  ...  \n",
              "16841  [if, we, received, a, warning, call, would, we...  \n",
              "16842  [so, many, places, in, the, world, follow, the...  \n",
              "16843  [bring, you, death, steal, your, breath, am, y...  \n",
              "16844  [close, your, eyes, were, coming, down, close,...  \n",
              "16845  [in, the, backyard, in, the, living, room, res...  \n",
              "\n",
              "[16846 rows x 4 columns]"
            ],
            "text/html": [
              "\n",
              "  <div id=\"df-4646c630-8d08-498e-8a79-ec0b870d433c\" class=\"colab-df-container\">\n",
              "    <div>\n",
              "<style scoped>\n",
              "    .dataframe tbody tr th:only-of-type {\n",
              "        vertical-align: middle;\n",
              "    }\n",
              "\n",
              "    .dataframe tbody tr th {\n",
              "        vertical-align: top;\n",
              "    }\n",
              "\n",
              "    .dataframe thead th {\n",
              "        text-align: right;\n",
              "    }\n",
              "</style>\n",
              "<table border=\"1\" class=\"dataframe\">\n",
              "  <thead>\n",
              "    <tr style=\"text-align: right;\">\n",
              "      <th></th>\n",
              "      <th>valence_tags</th>\n",
              "      <th>positivity</th>\n",
              "      <th>lyrics</th>\n",
              "      <th>tokens</th>\n",
              "    </tr>\n",
              "  </thead>\n",
              "  <tbody>\n",
              "    <tr>\n",
              "      <th>0</th>\n",
              "      <td>3.000000</td>\n",
              "      <td>0</td>\n",
              "      <td>[Verse 1]. From the haunts of daily life. Wher...</td>\n",
              "      <td>[from, the, haunts, of, daily, life, where, is...</td>\n",
              "    </tr>\n",
              "    <tr>\n",
              "      <th>1</th>\n",
              "      <td>3.858696</td>\n",
              "      <td>0</td>\n",
              "      <td>I was waiting for a mermaid to appear. Saying ...</td>\n",
              "      <td>[was, waiting, for, a, mermaid, to, appear, sa...</td>\n",
              "    </tr>\n",
              "    <tr>\n",
              "      <th>2</th>\n",
              "      <td>7.616667</td>\n",
              "      <td>1</td>\n",
              "      <td>[Verse 1]. I waited for you winterlong. You se...</td>\n",
              "      <td>[waited, for, you, winterlong, you, seem, to, ...</td>\n",
              "    </tr>\n",
              "    <tr>\n",
              "      <th>3</th>\n",
              "      <td>6.685000</td>\n",
              "      <td>1</td>\n",
              "      <td>The world is giving you the run around. It lea...</td>\n",
              "      <td>[the, world, is, giving, you, the, run, around...</td>\n",
              "    </tr>\n",
              "    <tr>\n",
              "      <th>4</th>\n",
              "      <td>3.240000</td>\n",
              "      <td>0</td>\n",
              "      <td>[Verse 1]. You know what they say. That everyt...</td>\n",
              "      <td>[you, what, they, say, that, everything, in, y...</td>\n",
              "    </tr>\n",
              "    <tr>\n",
              "      <th>...</th>\n",
              "      <td>...</td>\n",
              "      <td>...</td>\n",
              "      <td>...</td>\n",
              "      <td>...</td>\n",
              "    </tr>\n",
              "    <tr>\n",
              "      <th>16841</th>\n",
              "      <td>7.807083</td>\n",
              "      <td>1</td>\n",
              "      <td>If we received a warning call. Would we change...</td>\n",
              "      <td>[if, we, received, a, warning, call, would, we...</td>\n",
              "    </tr>\n",
              "    <tr>\n",
              "      <th>16842</th>\n",
              "      <td>5.998475</td>\n",
              "      <td>1</td>\n",
              "      <td>[Verse 1]. I know so many. Places in the world...</td>\n",
              "      <td>[so, many, places, in, the, world, follow, the...</td>\n",
              "    </tr>\n",
              "    <tr>\n",
              "      <th>16843</th>\n",
              "      <td>3.160000</td>\n",
              "      <td>0</td>\n",
              "      <td>I bring you death. And steal your breath. I am...</td>\n",
              "      <td>[bring, you, death, steal, your, breath, am, y...</td>\n",
              "    </tr>\n",
              "    <tr>\n",
              "      <th>16844</th>\n",
              "      <td>2.530000</td>\n",
              "      <td>0</td>\n",
              "      <td>Close your eyes, we're coming down. Close your...</td>\n",
              "      <td>[close, your, eyes, were, coming, down, close,...</td>\n",
              "    </tr>\n",
              "    <tr>\n",
              "      <th>16845</th>\n",
              "      <td>8.470000</td>\n",
              "      <td>1</td>\n",
              "      <td>In the backyard. In the living room. Residenti...</td>\n",
              "      <td>[in, the, backyard, in, the, living, room, res...</td>\n",
              "    </tr>\n",
              "  </tbody>\n",
              "</table>\n",
              "<p>16846 rows × 4 columns</p>\n",
              "</div>\n",
              "    <div class=\"colab-df-buttons\">\n",
              "\n",
              "  <div class=\"colab-df-container\">\n",
              "    <button class=\"colab-df-convert\" onclick=\"convertToInteractive('df-4646c630-8d08-498e-8a79-ec0b870d433c')\"\n",
              "            title=\"Convert this dataframe to an interactive table.\"\n",
              "            style=\"display:none;\">\n",
              "\n",
              "  <svg xmlns=\"http://www.w3.org/2000/svg\" height=\"24px\" viewBox=\"0 -960 960 960\">\n",
              "    <path d=\"M120-120v-720h720v720H120Zm60-500h600v-160H180v160Zm220 220h160v-160H400v160Zm0 220h160v-160H400v160ZM180-400h160v-160H180v160Zm440 0h160v-160H620v160ZM180-180h160v-160H180v160Zm440 0h160v-160H620v160Z\"/>\n",
              "  </svg>\n",
              "    </button>\n",
              "\n",
              "  <style>\n",
              "    .colab-df-container {\n",
              "      display:flex;\n",
              "      gap: 12px;\n",
              "    }\n",
              "\n",
              "    .colab-df-convert {\n",
              "      background-color: #E8F0FE;\n",
              "      border: none;\n",
              "      border-radius: 50%;\n",
              "      cursor: pointer;\n",
              "      display: none;\n",
              "      fill: #1967D2;\n",
              "      height: 32px;\n",
              "      padding: 0 0 0 0;\n",
              "      width: 32px;\n",
              "    }\n",
              "\n",
              "    .colab-df-convert:hover {\n",
              "      background-color: #E2EBFA;\n",
              "      box-shadow: 0px 1px 2px rgba(60, 64, 67, 0.3), 0px 1px 3px 1px rgba(60, 64, 67, 0.15);\n",
              "      fill: #174EA6;\n",
              "    }\n",
              "\n",
              "    .colab-df-buttons div {\n",
              "      margin-bottom: 4px;\n",
              "    }\n",
              "\n",
              "    [theme=dark] .colab-df-convert {\n",
              "      background-color: #3B4455;\n",
              "      fill: #D2E3FC;\n",
              "    }\n",
              "\n",
              "    [theme=dark] .colab-df-convert:hover {\n",
              "      background-color: #434B5C;\n",
              "      box-shadow: 0px 1px 3px 1px rgba(0, 0, 0, 0.15);\n",
              "      filter: drop-shadow(0px 1px 2px rgba(0, 0, 0, 0.3));\n",
              "      fill: #FFFFFF;\n",
              "    }\n",
              "  </style>\n",
              "\n",
              "    <script>\n",
              "      const buttonEl =\n",
              "        document.querySelector('#df-4646c630-8d08-498e-8a79-ec0b870d433c button.colab-df-convert');\n",
              "      buttonEl.style.display =\n",
              "        google.colab.kernel.accessAllowed ? 'block' : 'none';\n",
              "\n",
              "      async function convertToInteractive(key) {\n",
              "        const element = document.querySelector('#df-4646c630-8d08-498e-8a79-ec0b870d433c');\n",
              "        const dataTable =\n",
              "          await google.colab.kernel.invokeFunction('convertToInteractive',\n",
              "                                                    [key], {});\n",
              "        if (!dataTable) return;\n",
              "\n",
              "        const docLinkHtml = 'Like what you see? Visit the ' +\n",
              "          '<a target=\"_blank\" href=https://colab.research.google.com/notebooks/data_table.ipynb>data table notebook</a>'\n",
              "          + ' to learn more about interactive tables.';\n",
              "        element.innerHTML = '';\n",
              "        dataTable['output_type'] = 'display_data';\n",
              "        await google.colab.output.renderOutput(dataTable, element);\n",
              "        const docLink = document.createElement('div');\n",
              "        docLink.innerHTML = docLinkHtml;\n",
              "        element.appendChild(docLink);\n",
              "      }\n",
              "    </script>\n",
              "  </div>\n",
              "\n",
              "\n",
              "<div id=\"df-f70304cf-0846-4635-b145-d1e167b34258\">\n",
              "  <button class=\"colab-df-quickchart\" onclick=\"quickchart('df-f70304cf-0846-4635-b145-d1e167b34258')\"\n",
              "            title=\"Suggest charts\"\n",
              "            style=\"display:none;\">\n",
              "\n",
              "<svg xmlns=\"http://www.w3.org/2000/svg\" height=\"24px\"viewBox=\"0 0 24 24\"\n",
              "     width=\"24px\">\n",
              "    <g>\n",
              "        <path d=\"M19 3H5c-1.1 0-2 .9-2 2v14c0 1.1.9 2 2 2h14c1.1 0 2-.9 2-2V5c0-1.1-.9-2-2-2zM9 17H7v-7h2v7zm4 0h-2V7h2v10zm4 0h-2v-4h2v4z\"/>\n",
              "    </g>\n",
              "</svg>\n",
              "  </button>\n",
              "\n",
              "<style>\n",
              "  .colab-df-quickchart {\n",
              "      --bg-color: #E8F0FE;\n",
              "      --fill-color: #1967D2;\n",
              "      --hover-bg-color: #E2EBFA;\n",
              "      --hover-fill-color: #174EA6;\n",
              "      --disabled-fill-color: #AAA;\n",
              "      --disabled-bg-color: #DDD;\n",
              "  }\n",
              "\n",
              "  [theme=dark] .colab-df-quickchart {\n",
              "      --bg-color: #3B4455;\n",
              "      --fill-color: #D2E3FC;\n",
              "      --hover-bg-color: #434B5C;\n",
              "      --hover-fill-color: #FFFFFF;\n",
              "      --disabled-bg-color: #3B4455;\n",
              "      --disabled-fill-color: #666;\n",
              "  }\n",
              "\n",
              "  .colab-df-quickchart {\n",
              "    background-color: var(--bg-color);\n",
              "    border: none;\n",
              "    border-radius: 50%;\n",
              "    cursor: pointer;\n",
              "    display: none;\n",
              "    fill: var(--fill-color);\n",
              "    height: 32px;\n",
              "    padding: 0;\n",
              "    width: 32px;\n",
              "  }\n",
              "\n",
              "  .colab-df-quickchart:hover {\n",
              "    background-color: var(--hover-bg-color);\n",
              "    box-shadow: 0 1px 2px rgba(60, 64, 67, 0.3), 0 1px 3px 1px rgba(60, 64, 67, 0.15);\n",
              "    fill: var(--button-hover-fill-color);\n",
              "  }\n",
              "\n",
              "  .colab-df-quickchart-complete:disabled,\n",
              "  .colab-df-quickchart-complete:disabled:hover {\n",
              "    background-color: var(--disabled-bg-color);\n",
              "    fill: var(--disabled-fill-color);\n",
              "    box-shadow: none;\n",
              "  }\n",
              "\n",
              "  .colab-df-spinner {\n",
              "    border: 2px solid var(--fill-color);\n",
              "    border-color: transparent;\n",
              "    border-bottom-color: var(--fill-color);\n",
              "    animation:\n",
              "      spin 1s steps(1) infinite;\n",
              "  }\n",
              "\n",
              "  @keyframes spin {\n",
              "    0% {\n",
              "      border-color: transparent;\n",
              "      border-bottom-color: var(--fill-color);\n",
              "      border-left-color: var(--fill-color);\n",
              "    }\n",
              "    20% {\n",
              "      border-color: transparent;\n",
              "      border-left-color: var(--fill-color);\n",
              "      border-top-color: var(--fill-color);\n",
              "    }\n",
              "    30% {\n",
              "      border-color: transparent;\n",
              "      border-left-color: var(--fill-color);\n",
              "      border-top-color: var(--fill-color);\n",
              "      border-right-color: var(--fill-color);\n",
              "    }\n",
              "    40% {\n",
              "      border-color: transparent;\n",
              "      border-right-color: var(--fill-color);\n",
              "      border-top-color: var(--fill-color);\n",
              "    }\n",
              "    60% {\n",
              "      border-color: transparent;\n",
              "      border-right-color: var(--fill-color);\n",
              "    }\n",
              "    80% {\n",
              "      border-color: transparent;\n",
              "      border-right-color: var(--fill-color);\n",
              "      border-bottom-color: var(--fill-color);\n",
              "    }\n",
              "    90% {\n",
              "      border-color: transparent;\n",
              "      border-bottom-color: var(--fill-color);\n",
              "    }\n",
              "  }\n",
              "</style>\n",
              "\n",
              "  <script>\n",
              "    async function quickchart(key) {\n",
              "      const quickchartButtonEl =\n",
              "        document.querySelector('#' + key + ' button');\n",
              "      quickchartButtonEl.disabled = true;  // To prevent multiple clicks.\n",
              "      quickchartButtonEl.classList.add('colab-df-spinner');\n",
              "      try {\n",
              "        const charts = await google.colab.kernel.invokeFunction(\n",
              "            'suggestCharts', [key], {});\n",
              "      } catch (error) {\n",
              "        console.error('Error during call to suggestCharts:', error);\n",
              "      }\n",
              "      quickchartButtonEl.classList.remove('colab-df-spinner');\n",
              "      quickchartButtonEl.classList.add('colab-df-quickchart-complete');\n",
              "    }\n",
              "    (() => {\n",
              "      let quickchartButtonEl =\n",
              "        document.querySelector('#df-f70304cf-0846-4635-b145-d1e167b34258 button');\n",
              "      quickchartButtonEl.style.display =\n",
              "        google.colab.kernel.accessAllowed ? 'block' : 'none';\n",
              "    })();\n",
              "  </script>\n",
              "</div>\n",
              "    </div>\n",
              "  </div>\n"
            ],
            "application/vnd.google.colaboratory.intrinsic+json": {
              "type": "dataframe",
              "variable_name": "data",
              "summary": "{\n  \"name\": \"data\",\n  \"rows\": 16846,\n  \"fields\": [\n    {\n      \"column\": \"valence_tags\",\n      \"properties\": {\n        \"dtype\": \"number\",\n        \"std\": 1.6704655510175694,\n        \"min\": 0.235,\n        \"max\": 8.47,\n        \"num_unique_values\": 8657,\n        \"samples\": [\n          5.35625,\n          3.32,\n          2.676960784\n        ],\n        \"semantic_type\": \"\",\n        \"description\": \"\"\n      }\n    },\n    {\n      \"column\": \"positivity\",\n      \"properties\": {\n        \"dtype\": \"number\",\n        \"std\": 0,\n        \"min\": 0,\n        \"max\": 1,\n        \"num_unique_values\": 2,\n        \"samples\": [\n          1,\n          0\n        ],\n        \"semantic_type\": \"\",\n        \"description\": \"\"\n      }\n    },\n    {\n      \"column\": \"lyrics\",\n      \"properties\": {\n        \"dtype\": \"string\",\n        \"num_unique_values\": 16843,\n        \"samples\": [\n          \"[Verse 1]. I'm getting lost in your curls. I'm drawing pictures on your skin. So soft it twirls. I like your looks when you get mean. I know I shouldn't say so but when you claw me like a cat. I'm beaming. I like the way you squeeze my hand. Pulling me into another dream. A lucid dream. I'm getting lost in your curls. I'm getting crushed out on the things that only I should see. . [Pre-Chorus]. And not for boys, they're just for me. Hurry to talk from far away. I can see you, you curl your fists and you pull your hair. When we're alone I wanna say. Let's just stay in. No one's here in our apartment, babe. [Chorus]. Put on the dress that I like. It makes me so crazy though I can't say why. Keep on your stockings for a while. Some kind of magic in the way you're lying there. . [Verse 2]. I'm getting lost in your curls. I'm getting rushed back on a whim. Our breaths get wind. Back to the time when we were green. I know we have changed but I still grin. Cause I can't wait to see you. Back to the time I touched your hair. When I was so scared to look that mean, I think it's weird. I'm getting lost in your curls. I'm getting crushed out on the things that only I should see. . [Pre-Chorus]. They're not for boys, they're just for me. Girl, we could talk far away. It's so hard for me only to get the urge to kiss you there. When we're alone I wanna say. Let's just stay in. No one's here in our apartment, babe. [Chorus]. Put on the dress that I like. It makes me so crazy though I can't say why. Keep on your stockings for a while. Some kind of magic in the way you're lying there. Put on the dress that I like. It makes me so crazy though I can't say why. Keep on your stockings for a while. Some kind of magic in the way you talk about your. . [Outro]. Blue eyeshadow, it's not exactly blue, no. But you refuse to call it anything but your blue\",\n          \"It's a long time since I saw you last. Tell me how you've been. Did you ever get to buy that yellow coat?. Do the flowers in your window box. Still smile when you walk in?. Did you ever read the letters that I wrote?. And I've been on the road since Christmas. But it don't seem so long. Outside of that there isn't much to say. I cut down on my drinkin'. And I wrote another song. I wish you wouldn't look at me that way. Remember all the mornings. That we walked around the park. The nights we babysat for Billy's kids. And all the times we used to talk. Of having one ourselves. I don't remember why we never did. Do your neighbors still complain a bit. When the music gets too loud?. Does your old cat still sleep up on the bed?. Do you still walk around. As if your head was in the clouds?. Have you heard a single thing I've said?. And it's a two day drive to New York. I guess I'd better go. Did you notice that the weather's gettin' cold?. And it's a long time since I saw you last. And tell me how you've been. Did you ever get to buy that yellow coat?. Did you ever get to buy that yellow coat?\"\n        ],\n        \"semantic_type\": \"\",\n        \"description\": \"\"\n      }\n    },\n    {\n      \"column\": \"tokens\",\n      \"properties\": {\n        \"dtype\": \"object\",\n        \"semantic_type\": \"\",\n        \"description\": \"\"\n      }\n    }\n  ]\n}"
            }
          },
          "metadata": {},
          "execution_count": 13
        }
      ],
      "source": [
        "data"
      ]
    },
    {
      "cell_type": "markdown",
      "id": "652a1179",
      "metadata": {
        "id": "652a1179"
      },
      "source": [
        "# Getting y\n",
        "## If valence > 4.5: Positive else Negative"
      ]
    },
    {
      "cell_type": "code",
      "execution_count": null,
      "id": "8ef3a809",
      "metadata": {
        "id": "8ef3a809"
      },
      "outputs": [],
      "source": [
        "def positivity(valence_score): #9-point scale\n",
        "        if valence_score<=4.5:\n",
        "            return 0\n",
        "        else:\n",
        "            return 1\n",
        "data['positivity'] = data['valence_tags'].apply(positivity)"
      ]
    },
    {
      "cell_type": "code",
      "execution_count": null,
      "id": "9bacc756",
      "metadata": {
        "id": "9bacc756",
        "outputId": "43baad00-0ab0-4472-ce33-c21429e73954",
        "colab": {
          "base_uri": "https://localhost:8080/",
          "height": 423
        }
      },
      "outputs": [
        {
          "output_type": "execute_result",
          "data": {
            "text/plain": [
              "                                                   lyric  valence_tags  lang  \\\n",
              "0      [Intro: Eminem]\\n'Cause sometimes you just fee...      4.550000   1.0   \n",
              "1      [Verse]\\nSaint Anger 'round my neck\\nSaint Ang...      3.710000   1.0   \n",
              "2      [Intro: Rick Ross]\\nLegendary\\nRunners\\nYou kn...      3.080000   1.0   \n",
              "3      [Intro]\\nRoad runner, road runner\\nGoing hundr...      6.555071   1.0   \n",
              "4      [Intro]\\nDie!\\n\\n[Verse]\\nI don't need your fo...      3.771176   1.0   \n",
              "...                                                  ...           ...   ...   \n",
              "89978  [Verse 1]\\nSay why\\nI'm tearing stars apart\\nS...      5.370000   1.0   \n",
              "89983  Hey, bride of mine\\nI love you\\nSo why'd you f...      5.370000   1.0   \n",
              "89984  The Snow Was Falling Through The Light\\n( I di...      5.370000   1.0   \n",
              "89985  Desperate days\\nWhen solutions are sold\\nFor a...      5.370000   1.0   \n",
              "89986  Child\\nChild\\nOh child\\nChild\\n\\nChild trembli...      6.685000   1.0   \n",
              "\n",
              "                                                  tokens  positivity  \n",
              "0      [eminem, cause, sometimes, you, just, feel, ti...           1  \n",
              "1      [saint, anger, round, my, neck, saint, anger, ...           0  \n",
              "2      [rick, ross, legendary, runners, you, me, tril...           0  \n",
              "3      [road, runner, road, runner, going, hundred, m...           1  \n",
              "4      [die, need, your, forgiveness, need, your, hat...           0  \n",
              "...                                                  ...         ...  \n",
              "89978  [say, why, tearing, stars, apart, show, how, w...           1  \n",
              "89983  [bride, of, mine, love, you, so, whyd, you, fi...           1  \n",
              "89984  [the, snow, was, falling, through, the, light,...           1  \n",
              "89985  [desperate, days, when, solutions, are, sold, ...           1  \n",
              "89986  [child, child, child, child, child, trembling,...           1  \n",
              "\n",
              "[33002 rows x 5 columns]"
            ],
            "text/html": [
              "\n",
              "  <div id=\"df-aa255059-b510-44b9-87d2-bc6ed0a8e4ea\" class=\"colab-df-container\">\n",
              "    <div>\n",
              "<style scoped>\n",
              "    .dataframe tbody tr th:only-of-type {\n",
              "        vertical-align: middle;\n",
              "    }\n",
              "\n",
              "    .dataframe tbody tr th {\n",
              "        vertical-align: top;\n",
              "    }\n",
              "\n",
              "    .dataframe thead th {\n",
              "        text-align: right;\n",
              "    }\n",
              "</style>\n",
              "<table border=\"1\" class=\"dataframe\">\n",
              "  <thead>\n",
              "    <tr style=\"text-align: right;\">\n",
              "      <th></th>\n",
              "      <th>lyric</th>\n",
              "      <th>valence_tags</th>\n",
              "      <th>lang</th>\n",
              "      <th>tokens</th>\n",
              "      <th>positivity</th>\n",
              "    </tr>\n",
              "  </thead>\n",
              "  <tbody>\n",
              "    <tr>\n",
              "      <th>0</th>\n",
              "      <td>[Intro: Eminem]\\n'Cause sometimes you just fee...</td>\n",
              "      <td>4.550000</td>\n",
              "      <td>1.0</td>\n",
              "      <td>[eminem, cause, sometimes, you, just, feel, ti...</td>\n",
              "      <td>1</td>\n",
              "    </tr>\n",
              "    <tr>\n",
              "      <th>1</th>\n",
              "      <td>[Verse]\\nSaint Anger 'round my neck\\nSaint Ang...</td>\n",
              "      <td>3.710000</td>\n",
              "      <td>1.0</td>\n",
              "      <td>[saint, anger, round, my, neck, saint, anger, ...</td>\n",
              "      <td>0</td>\n",
              "    </tr>\n",
              "    <tr>\n",
              "      <th>2</th>\n",
              "      <td>[Intro: Rick Ross]\\nLegendary\\nRunners\\nYou kn...</td>\n",
              "      <td>3.080000</td>\n",
              "      <td>1.0</td>\n",
              "      <td>[rick, ross, legendary, runners, you, me, tril...</td>\n",
              "      <td>0</td>\n",
              "    </tr>\n",
              "    <tr>\n",
              "      <th>3</th>\n",
              "      <td>[Intro]\\nRoad runner, road runner\\nGoing hundr...</td>\n",
              "      <td>6.555071</td>\n",
              "      <td>1.0</td>\n",
              "      <td>[road, runner, road, runner, going, hundred, m...</td>\n",
              "      <td>1</td>\n",
              "    </tr>\n",
              "    <tr>\n",
              "      <th>4</th>\n",
              "      <td>[Intro]\\nDie!\\n\\n[Verse]\\nI don't need your fo...</td>\n",
              "      <td>3.771176</td>\n",
              "      <td>1.0</td>\n",
              "      <td>[die, need, your, forgiveness, need, your, hat...</td>\n",
              "      <td>0</td>\n",
              "    </tr>\n",
              "    <tr>\n",
              "      <th>...</th>\n",
              "      <td>...</td>\n",
              "      <td>...</td>\n",
              "      <td>...</td>\n",
              "      <td>...</td>\n",
              "      <td>...</td>\n",
              "    </tr>\n",
              "    <tr>\n",
              "      <th>89978</th>\n",
              "      <td>[Verse 1]\\nSay why\\nI'm tearing stars apart\\nS...</td>\n",
              "      <td>5.370000</td>\n",
              "      <td>1.0</td>\n",
              "      <td>[say, why, tearing, stars, apart, show, how, w...</td>\n",
              "      <td>1</td>\n",
              "    </tr>\n",
              "    <tr>\n",
              "      <th>89983</th>\n",
              "      <td>Hey, bride of mine\\nI love you\\nSo why'd you f...</td>\n",
              "      <td>5.370000</td>\n",
              "      <td>1.0</td>\n",
              "      <td>[bride, of, mine, love, you, so, whyd, you, fi...</td>\n",
              "      <td>1</td>\n",
              "    </tr>\n",
              "    <tr>\n",
              "      <th>89984</th>\n",
              "      <td>The Snow Was Falling Through The Light\\n( I di...</td>\n",
              "      <td>5.370000</td>\n",
              "      <td>1.0</td>\n",
              "      <td>[the, snow, was, falling, through, the, light,...</td>\n",
              "      <td>1</td>\n",
              "    </tr>\n",
              "    <tr>\n",
              "      <th>89985</th>\n",
              "      <td>Desperate days\\nWhen solutions are sold\\nFor a...</td>\n",
              "      <td>5.370000</td>\n",
              "      <td>1.0</td>\n",
              "      <td>[desperate, days, when, solutions, are, sold, ...</td>\n",
              "      <td>1</td>\n",
              "    </tr>\n",
              "    <tr>\n",
              "      <th>89986</th>\n",
              "      <td>Child\\nChild\\nOh child\\nChild\\n\\nChild trembli...</td>\n",
              "      <td>6.685000</td>\n",
              "      <td>1.0</td>\n",
              "      <td>[child, child, child, child, child, trembling,...</td>\n",
              "      <td>1</td>\n",
              "    </tr>\n",
              "  </tbody>\n",
              "</table>\n",
              "<p>33002 rows × 5 columns</p>\n",
              "</div>\n",
              "    <div class=\"colab-df-buttons\">\n",
              "\n",
              "  <div class=\"colab-df-container\">\n",
              "    <button class=\"colab-df-convert\" onclick=\"convertToInteractive('df-aa255059-b510-44b9-87d2-bc6ed0a8e4ea')\"\n",
              "            title=\"Convert this dataframe to an interactive table.\"\n",
              "            style=\"display:none;\">\n",
              "\n",
              "  <svg xmlns=\"http://www.w3.org/2000/svg\" height=\"24px\" viewBox=\"0 -960 960 960\">\n",
              "    <path d=\"M120-120v-720h720v720H120Zm60-500h600v-160H180v160Zm220 220h160v-160H400v160Zm0 220h160v-160H400v160ZM180-400h160v-160H180v160Zm440 0h160v-160H620v160ZM180-180h160v-160H180v160Zm440 0h160v-160H620v160Z\"/>\n",
              "  </svg>\n",
              "    </button>\n",
              "\n",
              "  <style>\n",
              "    .colab-df-container {\n",
              "      display:flex;\n",
              "      gap: 12px;\n",
              "    }\n",
              "\n",
              "    .colab-df-convert {\n",
              "      background-color: #E8F0FE;\n",
              "      border: none;\n",
              "      border-radius: 50%;\n",
              "      cursor: pointer;\n",
              "      display: none;\n",
              "      fill: #1967D2;\n",
              "      height: 32px;\n",
              "      padding: 0 0 0 0;\n",
              "      width: 32px;\n",
              "    }\n",
              "\n",
              "    .colab-df-convert:hover {\n",
              "      background-color: #E2EBFA;\n",
              "      box-shadow: 0px 1px 2px rgba(60, 64, 67, 0.3), 0px 1px 3px 1px rgba(60, 64, 67, 0.15);\n",
              "      fill: #174EA6;\n",
              "    }\n",
              "\n",
              "    .colab-df-buttons div {\n",
              "      margin-bottom: 4px;\n",
              "    }\n",
              "\n",
              "    [theme=dark] .colab-df-convert {\n",
              "      background-color: #3B4455;\n",
              "      fill: #D2E3FC;\n",
              "    }\n",
              "\n",
              "    [theme=dark] .colab-df-convert:hover {\n",
              "      background-color: #434B5C;\n",
              "      box-shadow: 0px 1px 3px 1px rgba(0, 0, 0, 0.15);\n",
              "      filter: drop-shadow(0px 1px 2px rgba(0, 0, 0, 0.3));\n",
              "      fill: #FFFFFF;\n",
              "    }\n",
              "  </style>\n",
              "\n",
              "    <script>\n",
              "      const buttonEl =\n",
              "        document.querySelector('#df-aa255059-b510-44b9-87d2-bc6ed0a8e4ea button.colab-df-convert');\n",
              "      buttonEl.style.display =\n",
              "        google.colab.kernel.accessAllowed ? 'block' : 'none';\n",
              "\n",
              "      async function convertToInteractive(key) {\n",
              "        const element = document.querySelector('#df-aa255059-b510-44b9-87d2-bc6ed0a8e4ea');\n",
              "        const dataTable =\n",
              "          await google.colab.kernel.invokeFunction('convertToInteractive',\n",
              "                                                    [key], {});\n",
              "        if (!dataTable) return;\n",
              "\n",
              "        const docLinkHtml = 'Like what you see? Visit the ' +\n",
              "          '<a target=\"_blank\" href=https://colab.research.google.com/notebooks/data_table.ipynb>data table notebook</a>'\n",
              "          + ' to learn more about interactive tables.';\n",
              "        element.innerHTML = '';\n",
              "        dataTable['output_type'] = 'display_data';\n",
              "        await google.colab.output.renderOutput(dataTable, element);\n",
              "        const docLink = document.createElement('div');\n",
              "        docLink.innerHTML = docLinkHtml;\n",
              "        element.appendChild(docLink);\n",
              "      }\n",
              "    </script>\n",
              "  </div>\n",
              "\n",
              "\n",
              "<div id=\"df-ad713e60-e229-4422-b4ec-968504da8c09\">\n",
              "  <button class=\"colab-df-quickchart\" onclick=\"quickchart('df-ad713e60-e229-4422-b4ec-968504da8c09')\"\n",
              "            title=\"Suggest charts\"\n",
              "            style=\"display:none;\">\n",
              "\n",
              "<svg xmlns=\"http://www.w3.org/2000/svg\" height=\"24px\"viewBox=\"0 0 24 24\"\n",
              "     width=\"24px\">\n",
              "    <g>\n",
              "        <path d=\"M19 3H5c-1.1 0-2 .9-2 2v14c0 1.1.9 2 2 2h14c1.1 0 2-.9 2-2V5c0-1.1-.9-2-2-2zM9 17H7v-7h2v7zm4 0h-2V7h2v10zm4 0h-2v-4h2v4z\"/>\n",
              "    </g>\n",
              "</svg>\n",
              "  </button>\n",
              "\n",
              "<style>\n",
              "  .colab-df-quickchart {\n",
              "      --bg-color: #E8F0FE;\n",
              "      --fill-color: #1967D2;\n",
              "      --hover-bg-color: #E2EBFA;\n",
              "      --hover-fill-color: #174EA6;\n",
              "      --disabled-fill-color: #AAA;\n",
              "      --disabled-bg-color: #DDD;\n",
              "  }\n",
              "\n",
              "  [theme=dark] .colab-df-quickchart {\n",
              "      --bg-color: #3B4455;\n",
              "      --fill-color: #D2E3FC;\n",
              "      --hover-bg-color: #434B5C;\n",
              "      --hover-fill-color: #FFFFFF;\n",
              "      --disabled-bg-color: #3B4455;\n",
              "      --disabled-fill-color: #666;\n",
              "  }\n",
              "\n",
              "  .colab-df-quickchart {\n",
              "    background-color: var(--bg-color);\n",
              "    border: none;\n",
              "    border-radius: 50%;\n",
              "    cursor: pointer;\n",
              "    display: none;\n",
              "    fill: var(--fill-color);\n",
              "    height: 32px;\n",
              "    padding: 0;\n",
              "    width: 32px;\n",
              "  }\n",
              "\n",
              "  .colab-df-quickchart:hover {\n",
              "    background-color: var(--hover-bg-color);\n",
              "    box-shadow: 0 1px 2px rgba(60, 64, 67, 0.3), 0 1px 3px 1px rgba(60, 64, 67, 0.15);\n",
              "    fill: var(--button-hover-fill-color);\n",
              "  }\n",
              "\n",
              "  .colab-df-quickchart-complete:disabled,\n",
              "  .colab-df-quickchart-complete:disabled:hover {\n",
              "    background-color: var(--disabled-bg-color);\n",
              "    fill: var(--disabled-fill-color);\n",
              "    box-shadow: none;\n",
              "  }\n",
              "\n",
              "  .colab-df-spinner {\n",
              "    border: 2px solid var(--fill-color);\n",
              "    border-color: transparent;\n",
              "    border-bottom-color: var(--fill-color);\n",
              "    animation:\n",
              "      spin 1s steps(1) infinite;\n",
              "  }\n",
              "\n",
              "  @keyframes spin {\n",
              "    0% {\n",
              "      border-color: transparent;\n",
              "      border-bottom-color: var(--fill-color);\n",
              "      border-left-color: var(--fill-color);\n",
              "    }\n",
              "    20% {\n",
              "      border-color: transparent;\n",
              "      border-left-color: var(--fill-color);\n",
              "      border-top-color: var(--fill-color);\n",
              "    }\n",
              "    30% {\n",
              "      border-color: transparent;\n",
              "      border-left-color: var(--fill-color);\n",
              "      border-top-color: var(--fill-color);\n",
              "      border-right-color: var(--fill-color);\n",
              "    }\n",
              "    40% {\n",
              "      border-color: transparent;\n",
              "      border-right-color: var(--fill-color);\n",
              "      border-top-color: var(--fill-color);\n",
              "    }\n",
              "    60% {\n",
              "      border-color: transparent;\n",
              "      border-right-color: var(--fill-color);\n",
              "    }\n",
              "    80% {\n",
              "      border-color: transparent;\n",
              "      border-right-color: var(--fill-color);\n",
              "      border-bottom-color: var(--fill-color);\n",
              "    }\n",
              "    90% {\n",
              "      border-color: transparent;\n",
              "      border-bottom-color: var(--fill-color);\n",
              "    }\n",
              "  }\n",
              "</style>\n",
              "\n",
              "  <script>\n",
              "    async function quickchart(key) {\n",
              "      const quickchartButtonEl =\n",
              "        document.querySelector('#' + key + ' button');\n",
              "      quickchartButtonEl.disabled = true;  // To prevent multiple clicks.\n",
              "      quickchartButtonEl.classList.add('colab-df-spinner');\n",
              "      try {\n",
              "        const charts = await google.colab.kernel.invokeFunction(\n",
              "            'suggestCharts', [key], {});\n",
              "      } catch (error) {\n",
              "        console.error('Error during call to suggestCharts:', error);\n",
              "      }\n",
              "      quickchartButtonEl.classList.remove('colab-df-spinner');\n",
              "      quickchartButtonEl.classList.add('colab-df-quickchart-complete');\n",
              "    }\n",
              "    (() => {\n",
              "      let quickchartButtonEl =\n",
              "        document.querySelector('#df-ad713e60-e229-4422-b4ec-968504da8c09 button');\n",
              "      quickchartButtonEl.style.display =\n",
              "        google.colab.kernel.accessAllowed ? 'block' : 'none';\n",
              "    })();\n",
              "  </script>\n",
              "</div>\n",
              "\n",
              "  <div id=\"id_a99f406a-6e0c-409f-930f-00ad8ce62abf\">\n",
              "    <style>\n",
              "      .colab-df-generate {\n",
              "        background-color: #E8F0FE;\n",
              "        border: none;\n",
              "        border-radius: 50%;\n",
              "        cursor: pointer;\n",
              "        display: none;\n",
              "        fill: #1967D2;\n",
              "        height: 32px;\n",
              "        padding: 0 0 0 0;\n",
              "        width: 32px;\n",
              "      }\n",
              "\n",
              "      .colab-df-generate:hover {\n",
              "        background-color: #E2EBFA;\n",
              "        box-shadow: 0px 1px 2px rgba(60, 64, 67, 0.3), 0px 1px 3px 1px rgba(60, 64, 67, 0.15);\n",
              "        fill: #174EA6;\n",
              "      }\n",
              "\n",
              "      [theme=dark] .colab-df-generate {\n",
              "        background-color: #3B4455;\n",
              "        fill: #D2E3FC;\n",
              "      }\n",
              "\n",
              "      [theme=dark] .colab-df-generate:hover {\n",
              "        background-color: #434B5C;\n",
              "        box-shadow: 0px 1px 3px 1px rgba(0, 0, 0, 0.15);\n",
              "        filter: drop-shadow(0px 1px 2px rgba(0, 0, 0, 0.3));\n",
              "        fill: #FFFFFF;\n",
              "      }\n",
              "    </style>\n",
              "    <button class=\"colab-df-generate\" onclick=\"generateWithVariable('data')\"\n",
              "            title=\"Generate code using this dataframe.\"\n",
              "            style=\"display:none;\">\n",
              "\n",
              "  <svg xmlns=\"http://www.w3.org/2000/svg\" height=\"24px\"viewBox=\"0 0 24 24\"\n",
              "       width=\"24px\">\n",
              "    <path d=\"M7,19H8.4L18.45,9,17,7.55,7,17.6ZM5,21V16.75L18.45,3.32a2,2,0,0,1,2.83,0l1.4,1.43a1.91,1.91,0,0,1,.58,1.4,1.91,1.91,0,0,1-.58,1.4L9.25,21ZM18.45,9,17,7.55Zm-12,3A5.31,5.31,0,0,0,4.9,8.1,5.31,5.31,0,0,0,1,6.5,5.31,5.31,0,0,0,4.9,4.9,5.31,5.31,0,0,0,6.5,1,5.31,5.31,0,0,0,8.1,4.9,5.31,5.31,0,0,0,12,6.5,5.46,5.46,0,0,0,6.5,12Z\"/>\n",
              "  </svg>\n",
              "    </button>\n",
              "    <script>\n",
              "      (() => {\n",
              "      const buttonEl =\n",
              "        document.querySelector('#id_a99f406a-6e0c-409f-930f-00ad8ce62abf button.colab-df-generate');\n",
              "      buttonEl.style.display =\n",
              "        google.colab.kernel.accessAllowed ? 'block' : 'none';\n",
              "\n",
              "      buttonEl.onclick = () => {\n",
              "        google.colab.notebook.generateWithVariable('data');\n",
              "      }\n",
              "      })();\n",
              "    </script>\n",
              "  </div>\n",
              "\n",
              "    </div>\n",
              "  </div>\n"
            ],
            "application/vnd.google.colaboratory.intrinsic+json": {
              "type": "dataframe",
              "variable_name": "data",
              "summary": "{\n  \"name\": \"data\",\n  \"rows\": 33002,\n  \"fields\": [\n    {\n      \"column\": \"lyric\",\n      \"properties\": {\n        \"dtype\": \"string\",\n        \"num_unique_values\": 32988,\n        \"samples\": [\n          \"I've been searchin' a long time\\nFor someone exactly like you\\nI've been travelling all around the world\\nWaiting for you to come through\\n\\nSomeone like you\\nWill make it all worthwhile\\nSomeone like you\\nKeep me satisfied\\nSomeone exactly like you\\n\\nI've been travellin' a hard road\\nBaby, lookin' for someone exactly like you\\nI've been carrying my heavy load\\nWaitin' for the light to come shining through\\n\\nSomeone like you\\nWill make it all worthwhile\\nSomeone like you\\nKeep me satisfied\\nSomeone exactly like you\\nI've been doing some soul searching\\nFind out where you're at\\nI've been up and down the highway\\nAnd all kinds of foreign lands\\n\\nSomeone like you\\nWill make it all worthwhile\\nSomeone like you\\nKeep me satisfied\\nSomeone exactly like you\\n\\nI've been all around the world\\nMarching to the beat of a different drum\\nBut just lately I've realized\\nBaby, the best is yet to come\\n\\nSomeone like you\\nWill make it all worthwhile\\nSomeone like you\\nKeep me satisfied\\nSomeone exactly like you\\n\\nThe best is yet to come\",\n          \"[Verse 1]\\nWell, I've heard that the Devil's walking around\\nI sold my soul way down in the dirt\\nBut stole it back and forever in debt\\n\\n[Pre-Chorus]\\nAnd for a moment I don't even care\\nUntil I feel his breath at my neck\\nAnd maybe even you can feel it too\\nHe's on a strike and looking at you\\n\\n[Chorus]\\nHolding onto his words, but baby\\nI saw an angel become the Devil\\nStill they walk pretty good hand in hand\\nWell, baby, I don't need any of them\\nHeaven nor hell\\n\\n[Verse 2]\\nWell, I've heard that the morning star of a prince\\nWas invoked on a Monday on Earth\\nI found his business card in the mud\\n[Pre-Chorus]\\nAnd for a moment I don't even care\\nUntil I feel his breath at my neck\\nAnd maybe even you can feel it too\\nHe's on a strike and looking at you\\n\\n[Chorus]\\nHolding onto his words, but baby\\nI saw an angel become the Devil\\nStill they walk pretty good hand in hand\\nWell, baby, I don't need any of them\\nHeaven nor hell\\n\\n[Bridge]\\nEvil came down on Earth\\nAnd it beholds more than you love\\nMore than you love\\nHeaven, don't fall on Earth\\nWhat you behold is no longer word\\nNo longer words\\n\\n[Verse 3]\\nWell, I've heard that the Devil's walking around\\nI sold my soul way down in the dirt\\nBut stole it back and forever in debt\\n[Pre-Chorus]\\nAnd for a moment I don't even care\\nUntil I feel his breath at my neck\\nAnd maybe even you can feel it too\\nHe's on a strike and looking at you\\n\\n[Chorus]\\nHolding onto his words, but baby\\nI saw an angel become the Devil\\nStill they walk pretty good hand in hand\\nWell, baby, I don't need any of them\\nHeaven nor hell\",\n          \"We were so small when we met\\nI still remember, I'll never forget\\nTwo button eyes and a tail\\nI couldn't tell female or male\\nI caught your eye through the glass\\nI waved with my flipper\\nYou looked away kind of shy when you smiled, my world broke in two\\n\\nFrom my womb with a view I can see everything\\nFrom my womb with a view I can see everything I need\\nI look at you\\nBecause it's all I can do\\nFrom my womb with a view\\n\\nSometimes a whitecoat would pass\\nWe'd share a look when they'd tap on the glass\\nI learned to wiggle my toes\\nYou would laugh bubbles out your nose\\nSometimes the lights would go off and there'd be a moment\\nWhenever I felt alone or afraid I always had you\\nFrom my womb with a view I can see everything\\nFrom my womb with a view I can see everything I need\\nI look at you\\nBecause it's all I can do\\nFrom my womb with a view\\n\\nWhat I am trying to say\\nI think today is a very big day\\nSomething is calling me on\\nMaybe by morning I'll be gone\\nMaybe when we get outside we'll both still remember\\nMaybe someday we will meet on the street and I'll know it's you\\n\\nFrom my womb with a view I can see everything\\nFrom my womb with a view I can see everything I need\\nI look at you\\nBecause it's all I can do\\nFrom my womb with a view\"\n        ],\n        \"semantic_type\": \"\",\n        \"description\": \"\"\n      }\n    },\n    {\n      \"column\": \"valence_tags\",\n      \"properties\": {\n        \"dtype\": \"number\",\n        \"std\": 1.534559549291381,\n        \"min\": 0.235,\n        \"max\": 8.47,\n        \"num_unique_values\": 17953,\n        \"samples\": [\n          5.5462608695652165,\n          1.654074074074074,\n          6.755000000000001\n        ],\n        \"semantic_type\": \"\",\n        \"description\": \"\"\n      }\n    },\n    {\n      \"column\": \"lang\",\n      \"properties\": {\n        \"dtype\": \"number\",\n        \"std\": 0.0,\n        \"min\": 1.0,\n        \"max\": 1.0,\n        \"num_unique_values\": 1,\n        \"samples\": [\n          1.0\n        ],\n        \"semantic_type\": \"\",\n        \"description\": \"\"\n      }\n    },\n    {\n      \"column\": \"tokens\",\n      \"properties\": {\n        \"dtype\": \"object\",\n        \"semantic_type\": \"\",\n        \"description\": \"\"\n      }\n    },\n    {\n      \"column\": \"positivity\",\n      \"properties\": {\n        \"dtype\": \"number\",\n        \"std\": 0,\n        \"min\": 0,\n        \"max\": 1,\n        \"num_unique_values\": 2,\n        \"samples\": [\n          0\n        ],\n        \"semantic_type\": \"\",\n        \"description\": \"\"\n      }\n    }\n  ]\n}"
            }
          },
          "metadata": {},
          "execution_count": 14
        }
      ],
      "source": [
        "data"
      ]
    },
    {
      "cell_type": "code",
      "source": [
        "# Check how many NaN values exist in the 'tokens' column\n",
        "nan_count = data['tokens'].isna().sum()\n",
        "print(f\"Number of NaN values in 'tokens' column: {nan_count}\")\n",
        "\n",
        "# If there are NaN values and it makes sense to fill them with empty lists:\n",
        "data['tokens'] = data['tokens'].apply(lambda x: x if isinstance(x, list) else [])\n"
      ],
      "metadata": {
        "colab": {
          "base_uri": "https://localhost:8080/"
        },
        "id": "wcCCwphrjgGa",
        "outputId": "2ebf25d5-34e1-4766-f170-36bffbcf72da"
      },
      "id": "wcCCwphrjgGa",
      "execution_count": null,
      "outputs": [
        {
          "output_type": "stream",
          "name": "stdout",
          "text": [
            "Number of NaN values in 'tokens' column: 0\n"
          ]
        }
      ]
    },
    {
      "cell_type": "code",
      "execution_count": null,
      "id": "80da0e66",
      "metadata": {
        "id": "80da0e66",
        "colab": {
          "base_uri": "https://localhost:8080/",
          "height": 423
        },
        "outputId": "6028272b-933d-4d93-adad-bcc8d9c7de66"
      },
      "outputs": [
        {
          "output_type": "execute_result",
          "data": {
            "text/plain": [
              "       valence_tags  positivity  \\\n",
              "0          3.000000           0   \n",
              "1          3.858696           0   \n",
              "2          7.616667           1   \n",
              "3          6.685000           1   \n",
              "4          3.240000           0   \n",
              "...             ...         ...   \n",
              "16841      7.807083           1   \n",
              "16842      5.998475           1   \n",
              "16843      3.160000           0   \n",
              "16844      2.530000           0   \n",
              "16845      8.470000           1   \n",
              "\n",
              "                                                  lyrics  \\\n",
              "0      [Verse 1]. From the haunts of daily life. Wher...   \n",
              "1      I was waiting for a mermaid to appear. Saying ...   \n",
              "2      [Verse 1]. I waited for you winterlong. You se...   \n",
              "3      The world is giving you the run around. It lea...   \n",
              "4      [Verse 1]. You know what they say. That everyt...   \n",
              "...                                                  ...   \n",
              "16841  If we received a warning call. Would we change...   \n",
              "16842  [Verse 1]. I know so many. Places in the world...   \n",
              "16843  I bring you death. And steal your breath. I am...   \n",
              "16844  Close your eyes, we're coming down. Close your...   \n",
              "16845  In the backyard. In the living room. Residenti...   \n",
              "\n",
              "                                                  tokens  \\\n",
              "0      [from, the, haunts, of, daily, life, where, is...   \n",
              "1      [was, waiting, for, a, mermaid, to, appear, sa...   \n",
              "2      [waited, for, you, winterlong, you, seem, to, ...   \n",
              "3      [the, world, is, giving, you, the, run, around...   \n",
              "4      [you, what, they, say, that, everything, in, y...   \n",
              "...                                                  ...   \n",
              "16841  [if, we, received, a, warning, call, would, we...   \n",
              "16842  [so, many, places, in, the, world, follow, the...   \n",
              "16843  [bring, you, death, steal, your, breath, am, y...   \n",
              "16844  [close, your, eyes, were, coming, down, close,...   \n",
              "16845  [in, the, backyard, in, the, living, room, res...   \n",
              "\n",
              "                                            clean_lyrics  \n",
              "0      from the haunts of daily life where is waged t...  \n",
              "1      was waiting for a mermaid to appear saying com...  \n",
              "2      waited for you winterlong you seem to be where...  \n",
              "3      the world is giving you the run around it leav...  \n",
              "4      you what they say that everything in your life...  \n",
              "...                                                  ...  \n",
              "16841  if we received a warning call would we change ...  \n",
              "16842  so many places in the world follow the sun in ...  \n",
              "16843  bring you death steal your breath am your fien...  \n",
              "16844  close your eyes were coming down close your ey...  \n",
              "16845  in the backyard in the living room residential...  \n",
              "\n",
              "[16846 rows x 5 columns]"
            ],
            "text/html": [
              "\n",
              "  <div id=\"df-e681cfcb-f290-48bf-971b-029d29adae4d\" class=\"colab-df-container\">\n",
              "    <div>\n",
              "<style scoped>\n",
              "    .dataframe tbody tr th:only-of-type {\n",
              "        vertical-align: middle;\n",
              "    }\n",
              "\n",
              "    .dataframe tbody tr th {\n",
              "        vertical-align: top;\n",
              "    }\n",
              "\n",
              "    .dataframe thead th {\n",
              "        text-align: right;\n",
              "    }\n",
              "</style>\n",
              "<table border=\"1\" class=\"dataframe\">\n",
              "  <thead>\n",
              "    <tr style=\"text-align: right;\">\n",
              "      <th></th>\n",
              "      <th>valence_tags</th>\n",
              "      <th>positivity</th>\n",
              "      <th>lyrics</th>\n",
              "      <th>tokens</th>\n",
              "      <th>clean_lyrics</th>\n",
              "    </tr>\n",
              "  </thead>\n",
              "  <tbody>\n",
              "    <tr>\n",
              "      <th>0</th>\n",
              "      <td>3.000000</td>\n",
              "      <td>0</td>\n",
              "      <td>[Verse 1]. From the haunts of daily life. Wher...</td>\n",
              "      <td>[from, the, haunts, of, daily, life, where, is...</td>\n",
              "      <td>from the haunts of daily life where is waged t...</td>\n",
              "    </tr>\n",
              "    <tr>\n",
              "      <th>1</th>\n",
              "      <td>3.858696</td>\n",
              "      <td>0</td>\n",
              "      <td>I was waiting for a mermaid to appear. Saying ...</td>\n",
              "      <td>[was, waiting, for, a, mermaid, to, appear, sa...</td>\n",
              "      <td>was waiting for a mermaid to appear saying com...</td>\n",
              "    </tr>\n",
              "    <tr>\n",
              "      <th>2</th>\n",
              "      <td>7.616667</td>\n",
              "      <td>1</td>\n",
              "      <td>[Verse 1]. I waited for you winterlong. You se...</td>\n",
              "      <td>[waited, for, you, winterlong, you, seem, to, ...</td>\n",
              "      <td>waited for you winterlong you seem to be where...</td>\n",
              "    </tr>\n",
              "    <tr>\n",
              "      <th>3</th>\n",
              "      <td>6.685000</td>\n",
              "      <td>1</td>\n",
              "      <td>The world is giving you the run around. It lea...</td>\n",
              "      <td>[the, world, is, giving, you, the, run, around...</td>\n",
              "      <td>the world is giving you the run around it leav...</td>\n",
              "    </tr>\n",
              "    <tr>\n",
              "      <th>4</th>\n",
              "      <td>3.240000</td>\n",
              "      <td>0</td>\n",
              "      <td>[Verse 1]. You know what they say. That everyt...</td>\n",
              "      <td>[you, what, they, say, that, everything, in, y...</td>\n",
              "      <td>you what they say that everything in your life...</td>\n",
              "    </tr>\n",
              "    <tr>\n",
              "      <th>...</th>\n",
              "      <td>...</td>\n",
              "      <td>...</td>\n",
              "      <td>...</td>\n",
              "      <td>...</td>\n",
              "      <td>...</td>\n",
              "    </tr>\n",
              "    <tr>\n",
              "      <th>16841</th>\n",
              "      <td>7.807083</td>\n",
              "      <td>1</td>\n",
              "      <td>If we received a warning call. Would we change...</td>\n",
              "      <td>[if, we, received, a, warning, call, would, we...</td>\n",
              "      <td>if we received a warning call would we change ...</td>\n",
              "    </tr>\n",
              "    <tr>\n",
              "      <th>16842</th>\n",
              "      <td>5.998475</td>\n",
              "      <td>1</td>\n",
              "      <td>[Verse 1]. I know so many. Places in the world...</td>\n",
              "      <td>[so, many, places, in, the, world, follow, the...</td>\n",
              "      <td>so many places in the world follow the sun in ...</td>\n",
              "    </tr>\n",
              "    <tr>\n",
              "      <th>16843</th>\n",
              "      <td>3.160000</td>\n",
              "      <td>0</td>\n",
              "      <td>I bring you death. And steal your breath. I am...</td>\n",
              "      <td>[bring, you, death, steal, your, breath, am, y...</td>\n",
              "      <td>bring you death steal your breath am your fien...</td>\n",
              "    </tr>\n",
              "    <tr>\n",
              "      <th>16844</th>\n",
              "      <td>2.530000</td>\n",
              "      <td>0</td>\n",
              "      <td>Close your eyes, we're coming down. Close your...</td>\n",
              "      <td>[close, your, eyes, were, coming, down, close,...</td>\n",
              "      <td>close your eyes were coming down close your ey...</td>\n",
              "    </tr>\n",
              "    <tr>\n",
              "      <th>16845</th>\n",
              "      <td>8.470000</td>\n",
              "      <td>1</td>\n",
              "      <td>In the backyard. In the living room. Residenti...</td>\n",
              "      <td>[in, the, backyard, in, the, living, room, res...</td>\n",
              "      <td>in the backyard in the living room residential...</td>\n",
              "    </tr>\n",
              "  </tbody>\n",
              "</table>\n",
              "<p>16846 rows × 5 columns</p>\n",
              "</div>\n",
              "    <div class=\"colab-df-buttons\">\n",
              "\n",
              "  <div class=\"colab-df-container\">\n",
              "    <button class=\"colab-df-convert\" onclick=\"convertToInteractive('df-e681cfcb-f290-48bf-971b-029d29adae4d')\"\n",
              "            title=\"Convert this dataframe to an interactive table.\"\n",
              "            style=\"display:none;\">\n",
              "\n",
              "  <svg xmlns=\"http://www.w3.org/2000/svg\" height=\"24px\" viewBox=\"0 -960 960 960\">\n",
              "    <path d=\"M120-120v-720h720v720H120Zm60-500h600v-160H180v160Zm220 220h160v-160H400v160Zm0 220h160v-160H400v160ZM180-400h160v-160H180v160Zm440 0h160v-160H620v160ZM180-180h160v-160H180v160Zm440 0h160v-160H620v160Z\"/>\n",
              "  </svg>\n",
              "    </button>\n",
              "\n",
              "  <style>\n",
              "    .colab-df-container {\n",
              "      display:flex;\n",
              "      gap: 12px;\n",
              "    }\n",
              "\n",
              "    .colab-df-convert {\n",
              "      background-color: #E8F0FE;\n",
              "      border: none;\n",
              "      border-radius: 50%;\n",
              "      cursor: pointer;\n",
              "      display: none;\n",
              "      fill: #1967D2;\n",
              "      height: 32px;\n",
              "      padding: 0 0 0 0;\n",
              "      width: 32px;\n",
              "    }\n",
              "\n",
              "    .colab-df-convert:hover {\n",
              "      background-color: #E2EBFA;\n",
              "      box-shadow: 0px 1px 2px rgba(60, 64, 67, 0.3), 0px 1px 3px 1px rgba(60, 64, 67, 0.15);\n",
              "      fill: #174EA6;\n",
              "    }\n",
              "\n",
              "    .colab-df-buttons div {\n",
              "      margin-bottom: 4px;\n",
              "    }\n",
              "\n",
              "    [theme=dark] .colab-df-convert {\n",
              "      background-color: #3B4455;\n",
              "      fill: #D2E3FC;\n",
              "    }\n",
              "\n",
              "    [theme=dark] .colab-df-convert:hover {\n",
              "      background-color: #434B5C;\n",
              "      box-shadow: 0px 1px 3px 1px rgba(0, 0, 0, 0.15);\n",
              "      filter: drop-shadow(0px 1px 2px rgba(0, 0, 0, 0.3));\n",
              "      fill: #FFFFFF;\n",
              "    }\n",
              "  </style>\n",
              "\n",
              "    <script>\n",
              "      const buttonEl =\n",
              "        document.querySelector('#df-e681cfcb-f290-48bf-971b-029d29adae4d button.colab-df-convert');\n",
              "      buttonEl.style.display =\n",
              "        google.colab.kernel.accessAllowed ? 'block' : 'none';\n",
              "\n",
              "      async function convertToInteractive(key) {\n",
              "        const element = document.querySelector('#df-e681cfcb-f290-48bf-971b-029d29adae4d');\n",
              "        const dataTable =\n",
              "          await google.colab.kernel.invokeFunction('convertToInteractive',\n",
              "                                                    [key], {});\n",
              "        if (!dataTable) return;\n",
              "\n",
              "        const docLinkHtml = 'Like what you see? Visit the ' +\n",
              "          '<a target=\"_blank\" href=https://colab.research.google.com/notebooks/data_table.ipynb>data table notebook</a>'\n",
              "          + ' to learn more about interactive tables.';\n",
              "        element.innerHTML = '';\n",
              "        dataTable['output_type'] = 'display_data';\n",
              "        await google.colab.output.renderOutput(dataTable, element);\n",
              "        const docLink = document.createElement('div');\n",
              "        docLink.innerHTML = docLinkHtml;\n",
              "        element.appendChild(docLink);\n",
              "      }\n",
              "    </script>\n",
              "  </div>\n",
              "\n",
              "\n",
              "<div id=\"df-34fd1843-2d29-44f6-8917-550b3e40ea83\">\n",
              "  <button class=\"colab-df-quickchart\" onclick=\"quickchart('df-34fd1843-2d29-44f6-8917-550b3e40ea83')\"\n",
              "            title=\"Suggest charts\"\n",
              "            style=\"display:none;\">\n",
              "\n",
              "<svg xmlns=\"http://www.w3.org/2000/svg\" height=\"24px\"viewBox=\"0 0 24 24\"\n",
              "     width=\"24px\">\n",
              "    <g>\n",
              "        <path d=\"M19 3H5c-1.1 0-2 .9-2 2v14c0 1.1.9 2 2 2h14c1.1 0 2-.9 2-2V5c0-1.1-.9-2-2-2zM9 17H7v-7h2v7zm4 0h-2V7h2v10zm4 0h-2v-4h2v4z\"/>\n",
              "    </g>\n",
              "</svg>\n",
              "  </button>\n",
              "\n",
              "<style>\n",
              "  .colab-df-quickchart {\n",
              "      --bg-color: #E8F0FE;\n",
              "      --fill-color: #1967D2;\n",
              "      --hover-bg-color: #E2EBFA;\n",
              "      --hover-fill-color: #174EA6;\n",
              "      --disabled-fill-color: #AAA;\n",
              "      --disabled-bg-color: #DDD;\n",
              "  }\n",
              "\n",
              "  [theme=dark] .colab-df-quickchart {\n",
              "      --bg-color: #3B4455;\n",
              "      --fill-color: #D2E3FC;\n",
              "      --hover-bg-color: #434B5C;\n",
              "      --hover-fill-color: #FFFFFF;\n",
              "      --disabled-bg-color: #3B4455;\n",
              "      --disabled-fill-color: #666;\n",
              "  }\n",
              "\n",
              "  .colab-df-quickchart {\n",
              "    background-color: var(--bg-color);\n",
              "    border: none;\n",
              "    border-radius: 50%;\n",
              "    cursor: pointer;\n",
              "    display: none;\n",
              "    fill: var(--fill-color);\n",
              "    height: 32px;\n",
              "    padding: 0;\n",
              "    width: 32px;\n",
              "  }\n",
              "\n",
              "  .colab-df-quickchart:hover {\n",
              "    background-color: var(--hover-bg-color);\n",
              "    box-shadow: 0 1px 2px rgba(60, 64, 67, 0.3), 0 1px 3px 1px rgba(60, 64, 67, 0.15);\n",
              "    fill: var(--button-hover-fill-color);\n",
              "  }\n",
              "\n",
              "  .colab-df-quickchart-complete:disabled,\n",
              "  .colab-df-quickchart-complete:disabled:hover {\n",
              "    background-color: var(--disabled-bg-color);\n",
              "    fill: var(--disabled-fill-color);\n",
              "    box-shadow: none;\n",
              "  }\n",
              "\n",
              "  .colab-df-spinner {\n",
              "    border: 2px solid var(--fill-color);\n",
              "    border-color: transparent;\n",
              "    border-bottom-color: var(--fill-color);\n",
              "    animation:\n",
              "      spin 1s steps(1) infinite;\n",
              "  }\n",
              "\n",
              "  @keyframes spin {\n",
              "    0% {\n",
              "      border-color: transparent;\n",
              "      border-bottom-color: var(--fill-color);\n",
              "      border-left-color: var(--fill-color);\n",
              "    }\n",
              "    20% {\n",
              "      border-color: transparent;\n",
              "      border-left-color: var(--fill-color);\n",
              "      border-top-color: var(--fill-color);\n",
              "    }\n",
              "    30% {\n",
              "      border-color: transparent;\n",
              "      border-left-color: var(--fill-color);\n",
              "      border-top-color: var(--fill-color);\n",
              "      border-right-color: var(--fill-color);\n",
              "    }\n",
              "    40% {\n",
              "      border-color: transparent;\n",
              "      border-right-color: var(--fill-color);\n",
              "      border-top-color: var(--fill-color);\n",
              "    }\n",
              "    60% {\n",
              "      border-color: transparent;\n",
              "      border-right-color: var(--fill-color);\n",
              "    }\n",
              "    80% {\n",
              "      border-color: transparent;\n",
              "      border-right-color: var(--fill-color);\n",
              "      border-bottom-color: var(--fill-color);\n",
              "    }\n",
              "    90% {\n",
              "      border-color: transparent;\n",
              "      border-bottom-color: var(--fill-color);\n",
              "    }\n",
              "  }\n",
              "</style>\n",
              "\n",
              "  <script>\n",
              "    async function quickchart(key) {\n",
              "      const quickchartButtonEl =\n",
              "        document.querySelector('#' + key + ' button');\n",
              "      quickchartButtonEl.disabled = true;  // To prevent multiple clicks.\n",
              "      quickchartButtonEl.classList.add('colab-df-spinner');\n",
              "      try {\n",
              "        const charts = await google.colab.kernel.invokeFunction(\n",
              "            'suggestCharts', [key], {});\n",
              "      } catch (error) {\n",
              "        console.error('Error during call to suggestCharts:', error);\n",
              "      }\n",
              "      quickchartButtonEl.classList.remove('colab-df-spinner');\n",
              "      quickchartButtonEl.classList.add('colab-df-quickchart-complete');\n",
              "    }\n",
              "    (() => {\n",
              "      let quickchartButtonEl =\n",
              "        document.querySelector('#df-34fd1843-2d29-44f6-8917-550b3e40ea83 button');\n",
              "      quickchartButtonEl.style.display =\n",
              "        google.colab.kernel.accessAllowed ? 'block' : 'none';\n",
              "    })();\n",
              "  </script>\n",
              "</div>\n",
              "    </div>\n",
              "  </div>\n"
            ],
            "application/vnd.google.colaboratory.intrinsic+json": {
              "type": "dataframe",
              "variable_name": "data",
              "summary": "{\n  \"name\": \"data\",\n  \"rows\": 16846,\n  \"fields\": [\n    {\n      \"column\": \"valence_tags\",\n      \"properties\": {\n        \"dtype\": \"number\",\n        \"std\": 1.6704655510175694,\n        \"min\": 0.235,\n        \"max\": 8.47,\n        \"num_unique_values\": 8657,\n        \"samples\": [\n          5.35625,\n          3.32,\n          2.676960784\n        ],\n        \"semantic_type\": \"\",\n        \"description\": \"\"\n      }\n    },\n    {\n      \"column\": \"positivity\",\n      \"properties\": {\n        \"dtype\": \"number\",\n        \"std\": 0,\n        \"min\": 0,\n        \"max\": 1,\n        \"num_unique_values\": 2,\n        \"samples\": [\n          1,\n          0\n        ],\n        \"semantic_type\": \"\",\n        \"description\": \"\"\n      }\n    },\n    {\n      \"column\": \"lyrics\",\n      \"properties\": {\n        \"dtype\": \"string\",\n        \"num_unique_values\": 16843,\n        \"samples\": [\n          \"[Verse 1]. I'm getting lost in your curls. I'm drawing pictures on your skin. So soft it twirls. I like your looks when you get mean. I know I shouldn't say so but when you claw me like a cat. I'm beaming. I like the way you squeeze my hand. Pulling me into another dream. A lucid dream. I'm getting lost in your curls. I'm getting crushed out on the things that only I should see. . [Pre-Chorus]. And not for boys, they're just for me. Hurry to talk from far away. I can see you, you curl your fists and you pull your hair. When we're alone I wanna say. Let's just stay in. No one's here in our apartment, babe. [Chorus]. Put on the dress that I like. It makes me so crazy though I can't say why. Keep on your stockings for a while. Some kind of magic in the way you're lying there. . [Verse 2]. I'm getting lost in your curls. I'm getting rushed back on a whim. Our breaths get wind. Back to the time when we were green. I know we have changed but I still grin. Cause I can't wait to see you. Back to the time I touched your hair. When I was so scared to look that mean, I think it's weird. I'm getting lost in your curls. I'm getting crushed out on the things that only I should see. . [Pre-Chorus]. They're not for boys, they're just for me. Girl, we could talk far away. It's so hard for me only to get the urge to kiss you there. When we're alone I wanna say. Let's just stay in. No one's here in our apartment, babe. [Chorus]. Put on the dress that I like. It makes me so crazy though I can't say why. Keep on your stockings for a while. Some kind of magic in the way you're lying there. Put on the dress that I like. It makes me so crazy though I can't say why. Keep on your stockings for a while. Some kind of magic in the way you talk about your. . [Outro]. Blue eyeshadow, it's not exactly blue, no. But you refuse to call it anything but your blue\",\n          \"It's a long time since I saw you last. Tell me how you've been. Did you ever get to buy that yellow coat?. Do the flowers in your window box. Still smile when you walk in?. Did you ever read the letters that I wrote?. And I've been on the road since Christmas. But it don't seem so long. Outside of that there isn't much to say. I cut down on my drinkin'. And I wrote another song. I wish you wouldn't look at me that way. Remember all the mornings. That we walked around the park. The nights we babysat for Billy's kids. And all the times we used to talk. Of having one ourselves. I don't remember why we never did. Do your neighbors still complain a bit. When the music gets too loud?. Does your old cat still sleep up on the bed?. Do you still walk around. As if your head was in the clouds?. Have you heard a single thing I've said?. And it's a two day drive to New York. I guess I'd better go. Did you notice that the weather's gettin' cold?. And it's a long time since I saw you last. And tell me how you've been. Did you ever get to buy that yellow coat?. Did you ever get to buy that yellow coat?\"\n        ],\n        \"semantic_type\": \"\",\n        \"description\": \"\"\n      }\n    },\n    {\n      \"column\": \"tokens\",\n      \"properties\": {\n        \"dtype\": \"object\",\n        \"semantic_type\": \"\",\n        \"description\": \"\"\n      }\n    },\n    {\n      \"column\": \"clean_lyrics\",\n      \"properties\": {\n        \"dtype\": \"string\",\n        \"num_unique_values\": 16835,\n        \"samples\": [\n          \"were not alone were not in vain were not someone calling your name were not afraid were not to late were not a spike in your vein dreams never cease to last century child forget your past just for a while were not outside were not in cold were not afraid to get old were not around to be in debt living in fields of regret cause dreams never cease to last century child forget your past just for a while were not in love were not in faith were not the ones who wont be saved so when you\",\n          \"slow down henry imagine for a while that this life is all that you have clean out your office pack up all your bags think that shell understand that your love is here with this band sing out henry the world is in your voice it might not be far from the truth you might not make it you how hard it is but how youll make the world shine with just one song at a time slow down henry imagine for a while that this life is all that you have clean out your office pack up all your\"\n        ],\n        \"semantic_type\": \"\",\n        \"description\": \"\"\n      }\n    }\n  ]\n}"
            }
          },
          "metadata": {},
          "execution_count": 22
        }
      ],
      "source": [
        "# Example application on DataFrame\n",
        "# Ensure the 'tokens' column contains lists of words (tokens)\n",
        "def join(tokens):\n",
        "    sentence = ' '.join(tokens[:100])\n",
        "    return sentence\n",
        "\n",
        "data['clean_lyrics'] = data['tokens'].apply(join)\n",
        "data"
      ]
    },
    {
      "cell_type": "code",
      "source": [
        "#new_data = data.sample(n=2000, random_state=42)"
      ],
      "metadata": {
        "id": "Vg2mY0FrhXIZ"
      },
      "id": "Vg2mY0FrhXIZ",
      "execution_count": null,
      "outputs": []
    },
    {
      "cell_type": "markdown",
      "source": [
        "# Visualization Data"
      ],
      "metadata": {
        "id": "WYnBf6uscIqy"
      },
      "id": "WYnBf6uscIqy"
    },
    {
      "cell_type": "code",
      "source": [
        "import matplotlib.pyplot as plt"
      ],
      "metadata": {
        "id": "B8YE1hcniLh8"
      },
      "id": "B8YE1hcniLh8",
      "execution_count": null,
      "outputs": []
    },
    {
      "cell_type": "code",
      "source": [
        "cnt_pro = data['positivity'].value_counts()\n",
        "plt.bar(cnt_pro.index, cnt_pro.values)\n",
        "plt.xlabel('Index')\n",
        "plt.ylabel('Values')\n",
        "plt.title('Bar Graph')\n",
        "plt.show()"
      ],
      "metadata": {
        "colab": {
          "base_uri": "https://localhost:8080/",
          "height": 472
        },
        "id": "b1tnShGciT8W",
        "outputId": "760559a8-5614-40ec-8dbb-7fc898a278cb"
      },
      "id": "b1tnShGciT8W",
      "execution_count": null,
      "outputs": [
        {
          "output_type": "display_data",
          "data": {
            "text/plain": [
              "<Figure size 640x480 with 1 Axes>"
            ],
            "image/png": "[encoded data removed]"
          },
          "metadata": {}
        }
      ]
    },
    {
      "cell_type": "code",
      "source": [
        "###### BALANCE DATA #######\n",
        "\n",
        "# Separate the classes based on 'positivity'\n",
        "positive_df = data[data['positivity'] == 1]\n",
        "negative_df = data[data['positivity'] == 0]\n",
        "# Randomly sample from the majority class to match the size of the minority class\n",
        "balanced_positive_df = positive_df.sample(n=len(negative_df), random_state=42)  # Ensuring reproducibility\n",
        "\n",
        "# Concatenate with the minority class\n",
        "balanced_df = pd.concat([balanced_positive_df, negative_df])\n",
        "# Optionally shuffle the dataset\n",
        "input_data = balanced_df.sample(frac=1, random_state=42).reset_index(drop=True)"
      ],
      "metadata": {
        "id": "vI_7HtwUP8km"
      },
      "id": "vI_7HtwUP8km",
      "execution_count": null,
      "outputs": []
    },
    {
      "cell_type": "markdown",
      "source": [
        "# Doc to Vec"
      ],
      "metadata": {
        "id": "t2zVl_FKjjbn"
      },
      "id": "t2zVl_FKjjbn"
    },
    {
      "cell_type": "code",
      "source": [
        "from gensim.models import Doc2Vec\n",
        "from gensim.models.doc2vec import TaggedDocument\n",
        "from tqdm import tqdm\n",
        "\n",
        "import nltk\n",
        "nltk.download('punkt')\n",
        "from nltk.corpus import stopwords\n",
        "import pandas as pd\n",
        "import numpy as np\n",
        "from tqdm import tqdm\n",
        "from keras.preprocessing.text import Tokenizer\n",
        "tqdm.pandas(desc=\"progress-bar\")\n",
        "from gensim.models import Doc2Vec\n",
        "from sklearn import utils\n",
        "from sklearn.model_selection import train_test_split\n",
        "from keras.preprocessing.sequence import pad_sequences\n",
        "import gensim\n",
        "from sklearn.linear_model import LogisticRegression\n",
        "from gensim.models.doc2vec import TaggedDocument\n",
        "import re\n",
        "import seaborn as sns\n",
        "import matplotlib.pyplot as plt"
      ],
      "metadata": {
        "colab": {
          "base_uri": "https://localhost:8080/"
        },
        "id": "t3L6L_m0Gr00",
        "outputId": "2c1882b0-fb15-4e2e-a6cc-17c43420cb6d"
      },
      "id": "t3L6L_m0Gr00",
      "execution_count": null,
      "outputs": [
        {
          "output_type": "stream",
          "name": "stderr",
          "text": [
            "[nltk_data] Downloading package punkt to /root/nltk_data...\n",
            "[nltk_data]   Package punkt is already up-to-date!\n"
          ]
        }
      ]
    },
    {
      "cell_type": "code",
      "source": [
        "train, test = train_test_split(input_data, test_size=0.000001 , random_state=42)"
      ],
      "metadata": {
        "id": "PsFb2HyxG06S"
      },
      "id": "PsFb2HyxG06S",
      "execution_count": null,
      "outputs": []
    },
    {
      "cell_type": "code",
      "source": [
        "def tokenize_text(text):\n",
        "    tokens = []\n",
        "    for sent in nltk.sent_tokenize(text):\n",
        "        for word in nltk.word_tokenize(sent):\n",
        "            #if len(word) < 0:\n",
        "            if len(word) <= 0:\n",
        "                continue\n",
        "            tokens.append(word.lower())\n",
        "    return tokens"
      ],
      "metadata": {
        "id": "YzJDz7cXG-dH"
      },
      "id": "YzJDz7cXG-dH",
      "execution_count": null,
      "outputs": []
    },
    {
      "cell_type": "code",
      "source": [
        "input_data = data.copy()"
      ],
      "metadata": {
        "id": "oy6i5P9a5zbr"
      },
      "id": "oy6i5P9a5zbr",
      "execution_count": null,
      "outputs": []
    },
    {
      "cell_type": "code",
      "source": [
        "train_tagged = train.apply(lambda r: TaggedDocument(words=tokenize_text(r['clean_lyrics']), tags=[r.positivity]), axis=1)\n",
        "test_tagged = test.apply(lambda r: TaggedDocument(words=tokenize_text(r['clean_lyrics']), tags=[r.positivity]), axis=1)"
      ],
      "metadata": {
        "id": "5AZc9YNTHBfg"
      },
      "id": "5AZc9YNTHBfg",
      "execution_count": null,
      "outputs": []
    },
    {
      "cell_type": "code",
      "source": [
        "# The maximum number of words to be used. (most frequent)\n",
        "max_fatures = 500000\n",
        "\n",
        "# Max number of words in each lyrics.\n",
        "MAX_SEQUENCE_LENGTH = 100"
      ],
      "metadata": {
        "id": "Ait-FX86HJ-9"
      },
      "id": "Ait-FX86HJ-9",
      "execution_count": null,
      "outputs": []
    },
    {
      "cell_type": "code",
      "source": [
        "#tokenizer = Tokenizer(num_words=max_fatures, split=' ')\n",
        "tokenizer = Tokenizer(num_words=max_fatures, split=' ', filters='!\"#$%&()*+,-./:;<=>?@[\\]^_`{|}~', lower=True, oov_token='UNK')\n",
        "\n",
        "tokenizer.fit_on_texts(input_data['clean_lyrics'].values)\n",
        "X = tokenizer.texts_to_sequences(input_data['clean_lyrics'].values)\n",
        "# X = pad_sequences(X)\n",
        "X = pad_sequences(X, maxlen=MAX_SEQUENCE_LENGTH, padding='post')\n",
        "# Y = input_data['positivity'].values  # Ensure this is correct based on how positivity is stored\n",
        "print('Found %s unique tokens.' % len(X))"
      ],
      "metadata": {
        "colab": {
          "base_uri": "https://localhost:8080/"
        },
        "id": "CdXx1vYPHQWb",
        "outputId": "987ef29b-eccf-4a54-ea7e-dfa1b0023753"
      },
      "id": "CdXx1vYPHQWb",
      "execution_count": null,
      "outputs": [
        {
          "output_type": "stream",
          "name": "stdout",
          "text": [
            "Found 16846 unique tokens.\n"
          ]
        }
      ]
    },
    {
      "cell_type": "code",
      "source": [
        "# X = tokenizer.texts_to_sequences(new_data['clean_lyrics'].values)\n",
        "X = tokenizer.texts_to_sequences(input_data['clean_lyrics'].values)\n",
        "X = pad_sequences(X, maxlen=MAX_SEQUENCE_LENGTH)\n",
        "print('Shape of data tensor:', X.shape)"
      ],
      "metadata": {
        "colab": {
          "base_uri": "https://localhost:8080/"
        },
        "id": "jFoTkFrtHvv-",
        "outputId": "aec7c4a3-c67d-4579-8f98-edd9257483b7"
      },
      "id": "jFoTkFrtHvv-",
      "execution_count": null,
      "outputs": [
        {
          "output_type": "stream",
          "name": "stdout",
          "text": [
            "Shape of data tensor: (16846, 100)\n"
          ]
        }
      ]
    },
    {
      "cell_type": "code",
      "source": [
        "input_length = X.shape[1]\n",
        "print(input_length)"
      ],
      "metadata": {
        "colab": {
          "base_uri": "https://localhost:8080/"
        },
        "id": "wDxyQtvbIMjz",
        "outputId": "8d961669-b356-4a98-f4ba-bcf710814eda"
      },
      "id": "wDxyQtvbIMjz",
      "execution_count": null,
      "outputs": [
        {
          "output_type": "stream",
          "name": "stdout",
          "text": [
            "100\n"
          ]
        }
      ]
    },
    {
      "cell_type": "code",
      "source": [
        "train_tagged.values"
      ],
      "metadata": {
        "colab": {
          "base_uri": "https://localhost:8080/"
        },
        "id": "_sWgDmrDIdJJ",
        "outputId": "1852adba-04ad-42c9-ef97-5fff2eb768c3"
      },
      "id": "_sWgDmrDIdJJ",
      "execution_count": null,
      "outputs": [
        {
          "output_type": "execute_result",
          "data": {
            "text/plain": [
              "array([TaggedDocument(words=['lean', 'in', 'close', 'speak', 'to', 'me', 'low', 'tell', 'me', 'things', 'you', 'want', 'me', 'to', 'cause', 'want', 'to', 'be', 'the', 'one', 'you', 'need', 'to', 'lean', 'to', 'speak', 'to', 'me', 'low', 'regretful', 'its', 'the', 'time', 'of', 'year', 'for', 'letting', 'go', 'wasting', 'all', 'my', 'time', 'cause', 'you', 'just', 'tease', 'me', 'please', 'leave', 'me', 'alone', 'scared', 'of', 'the', 'feeling', 'of', 'you', 'coming', 'home', 'leaning', 'out', 'the', 'open', 'windows', 'looking', 'into', 'the', 'alley', 'below', 'rooftops', 'black', 'the', 'moons', 'hanging', 'low', 'the', 'telephone', 'wires', 'that', 'carry', 'the', 'sound', 'stretch', 'across', 'the', 'sky', 'under', 'the', 'ground', 'will', 'be', 'here', 'when', 'you', 'come', 'back', 'speak', 'to', 'me', 'low'], tags=[1]),\n",
              "       TaggedDocument(words=['not', 'without', 'a', 'purpose', 'its', 'not', 'without', 'a', 'fight', 'three', 'tales', 'to', 'tell', 'you', 'so', 'please', 'sit', 'tight', 'its', 'the', 'story', 'of', 'three', 'underdogs', 'whove', 'grown', 'to', 'see', 'their', 'light', 'not', 'without', 'a', 'purpose', 'not', 'without', 'a', 'fight', 'been', 'away', 'for', 'far', 'too', 'long', 'on', 'my', 'mind', 'your', 'picture', 'stare', 'at', 'it', 'all', 'the', 'time', 'minutes', 'turn', 'to', 'hours', 'hours', 'into', 'days', 'as', 'each', 'one', 'passes', 'by', 'it', 'feels', 'all', 'the', 'same', 'but', 'the', 'lights', 'they', 'go', 'dark', 'man', 'in', 'black', 'on', 'the', 'p', 'a', 'walk', 'up', 'the', 'stairs', 'as', 'one', 'again', 'to', 'decimate', 'the', 'stage', 'not', 'without', 'a', 'purpose'], tags=[0]),\n",
              "       TaggedDocument(words=['my', 'friend', 'the', 'time', 'has', 'come', 'for', 'us', 'to', 'say', 'goodbye', 'so', 'with', 'these', 'parting', 'words', 'bid', 'you', 'farewell', 'it', 'seems', 'the', 'life', 'we', 'led', 'was', 'just', 'a', 'shameful', 'lie', 'what', 'does', 'the', 'future', 'hold', 'well', 'only', 'time', 'will', 'tell', 'not', 'scared', 'of', 'dying', 'really', 'care', 'if', 'its', 'peace', 'you', 'find', 'in', 'dying', 'well', 'then', 'let', 'my', 'time', 'be', 'near', 'if', 'its', 'peace', 'you', 'find', 'in', 'dying', 'when', 'dying', 'time', 'is', 'here', 'bundle', 'up', 'my', 'coffin', 'cos', 'its', 'cold', 'down', 'there', 'when', 'dead', 'when', 'gone', 'there', 'will', 'be', 'one', 'child', 'born', 'a', 'world', 'will', 'carry', 'on', 'some', 'say', 'our', 'fate'], tags=[0]),\n",
              "       ...,\n",
              "       TaggedDocument(words=['feel', 'you', 'your', 'sun', 'it', 'shines', 'feel', 'you', 'within', 'my', 'mind', 'you', 'take', 'me', 'there', 'you', 'take', 'me', 'where', 'the', 'kingdom', 'comes', 'you', 'take', 'me', 'to', 'lead', 'me', 'through', 'babylon', 'this', 'is', 'the', 'morning', 'of', 'our', 'love', 'its', 'just', 'the', 'dawning', 'of', 'our', 'love', 'feel', 'you', 'your', 'heart', 'it', 'sings', 'feel', 'you', 'the', 'joy', 'it', 'brings', 'where', 'heaven', 'waits', 'those', 'golden', 'gates', 'back', 'again', 'you', 'take', 'me', 'to', 'lead', 'me', 'through', 'oblivion', 'this', 'is', 'the', 'morning', 'of', 'our', 'love', 'its', 'just', 'the', 'dawning', 'of', 'our', 'love', 'feel', 'you', 'your', 'precious', 'soul', 'am', 'whole', 'feel', 'you', 'your', 'rising', 'sun', 'my', 'kingdom'], tags=[1]),\n",
              "       TaggedDocument(words=['tired', 'of', 'my', 'life', 'feel', 'so', 'inbetween', 'sick', 'of', 'all', 'my', 'friends', 'girls', 'can', 'be', 'so', 'mean', 'feel', 'like', 'throwing', 'out', 'everything', 'wear', 'starting', 'over', 'new', 'cause', 'not', 'even', 'there', 'prechorus', 'sometimes', 'sometimes', 'wan', 'na', 'get', 'away', 'some', 'place', 'but', 'wan', 'na', 'stay', 'too', 'long', 'sometimes', 'sometimes', 'want', 'a', 'brand', 'new', 'day', 'try', 'to', 'fit', 'in', 'where', 'belong', 'hook', 'hook', 'me', 'up', 'wan', 'na', 'feel', 'the', 'rain', 'in', 'my', 'hair', 'hook', 'hook', 'me', 'up', 'where', 'should', 'we', 'go', 'even', 'care', 'anywhere', 'is', 'good', 'enough', 'hook', 'me', 'up', 'hook', 'me', 'up', 'like', 'the', 'lights', 'turned', 'out', 'the', 'sound', 'of', 'closing', 'doors', 'not', 'like', 'other'], tags=[1]),\n",
              "       TaggedDocument(words=['the', 'time', 'it', 'takes', 'it', 'takes', 'to', 'heal', 'lord', 'understand', 'the', 'reason', 'why', 'it', 'goes', 'this', 'far', 'along', 'but', 'would', 'never', 'believe', 'that', 'you', 'ever', 'lose', 'a', 'single', 'thing', 'as', 'long', 'as', 'you', 'remember', 'as', 'long', 'as', 'you', 'have', 'your', 'dreams', 'lord', 'it', 'all', 'stays', 'with', 'you', 'always', 'be', 'behind', 'the', 'dream', 'had', 'not', 'that', 'way', 'sing', 'though', 'understand', 'who', 'is', 'awake', 'dee', 'dee'], tags=[1])],\n",
              "      dtype=object)"
            ]
          },
          "metadata": {},
          "execution_count": 32
        }
      ]
    },
    {
      "cell_type": "code",
      "source": [
        "# d2v_model = Doc2Vec(dm=1, dm_mean=1, size=20, window=8, min_count=1, workers=1, alpha=0.065, min_alpha=0.065)\n",
        "d2v_model = Doc2Vec(dm=1, dm_mean=1, vector_size=20, window=8, min_count=1, workers=1, alpha=0.065, min_alpha=0.065)\n",
        "\n",
        "d2v_model.build_vocab([x for x in tqdm(train_tagged.values)])"
      ],
      "metadata": {
        "colab": {
          "base_uri": "https://localhost:8080/"
        },
        "id": "tM0t876KK6Ut",
        "outputId": "51116572-a601-4af2-ec30-e2ec3ab6c9b6"
      },
      "id": "tM0t876KK6Ut",
      "execution_count": null,
      "outputs": [
        {
          "output_type": "stream",
          "name": "stderr",
          "text": [
            "100%|██████████| 16845/16845 [00:00<00:00, 1063219.33it/s]\n"
          ]
        }
      ]
    },
    {
      "cell_type": "code",
      "source": [
        "%%time\n",
        "for epoch in range(30):\n",
        "    d2v_model.train(utils.shuffle([x for x in tqdm(train_tagged.values)]), total_examples=len(train_tagged.values), epochs=1)\n",
        "    d2v_model.alpha -= 0.002\n",
        "    d2v_model.min_alpha = d2v_model.alpha"
      ],
      "metadata": {
        "colab": {
          "base_uri": "https://localhost:8080/"
        },
        "id": "rxSUEGB9K9Dl",
        "outputId": "c88c467b-388f-41f0-dd0c-c69e12cc6b32"
      },
      "id": "rxSUEGB9K9Dl",
      "execution_count": null,
      "outputs": [
        {
          "output_type": "stream",
          "name": "stderr",
          "text": [
            "100%|██████████| 16845/16845 [00:00<00:00, 1883729.73it/s]\n",
            "100%|██████████| 16845/16845 [00:00<00:00, 1863999.86it/s]\n",
            "100%|██████████| 16845/16845 [00:00<00:00, 1746114.99it/s]\n",
            "100%|██████████| 16845/16845 [00:00<00:00, 1630843.91it/s]\n",
            "100%|██████████| 16845/16845 [00:00<00:00, 1089820.31it/s]\n",
            "100%|██████████| 16845/16845 [00:00<00:00, 2158399.55it/s]\n",
            "100%|██████████| 16845/16845 [00:00<00:00, 1886042.84it/s]\n",
            "100%|██████████| 16845/16845 [00:00<00:00, 1320370.98it/s]\n",
            "100%|██████████| 16845/16845 [00:00<00:00, 2169934.00it/s]\n",
            "100%|██████████| 16845/16845 [00:00<00:00, 1255830.98it/s]\n",
            "100%|██████████| 16845/16845 [00:00<00:00, 1823445.71it/s]\n",
            "100%|██████████| 16845/16845 [00:00<00:00, 1888159.78it/s]\n",
            "100%|██████████| 16845/16845 [00:00<00:00, 2652739.01it/s]\n",
            "100%|██████████| 16845/16845 [00:00<00:00, 1964877.10it/s]\n",
            "100%|██████████| 16845/16845 [00:00<00:00, 1597545.58it/s]\n",
            "100%|██████████| 16845/16845 [00:00<00:00, 1174145.83it/s]\n",
            "100%|██████████| 16845/16845 [00:00<00:00, 1825188.60it/s]\n",
            "100%|██████████| 16845/16845 [00:00<00:00, 1723623.50it/s]\n",
            "100%|██████████| 16845/16845 [00:00<00:00, 1393633.76it/s]\n",
            "100%|██████████| 16845/16845 [00:00<00:00, 1595705.47it/s]\n",
            "100%|██████████| 16845/16845 [00:00<00:00, 1937611.09it/s]\n",
            "100%|██████████| 16845/16845 [00:00<00:00, 935034.16it/s]\n",
            "100%|██████████| 16845/16845 [00:00<00:00, 1850428.24it/s]\n",
            "100%|██████████| 16845/16845 [00:00<00:00, 1724717.46it/s]\n",
            "100%|██████████| 16845/16845 [00:00<00:00, 1012380.90it/s]\n",
            "100%|██████████| 16845/16845 [00:00<00:00, 1380158.05it/s]\n",
            "100%|██████████| 16845/16845 [00:00<00:00, 1837530.58it/s]\n",
            "100%|██████████| 16845/16845 [00:00<00:00, 1561945.68it/s]\n",
            "100%|██████████| 16845/16845 [00:00<00:00, 1886798.35it/s]\n",
            "100%|██████████| 16845/16845 [00:00<00:00, 1757844.67it/s]\n"
          ]
        },
        {
          "output_type": "stream",
          "name": "stdout",
          "text": [
            "CPU times: user 2min 24s, sys: 658 ms, total: 2min 25s\n",
            "Wall time: 2min 29s\n"
          ]
        }
      ]
    },
    {
      "cell_type": "code",
      "source": [
        "print(d2v_model)"
      ],
      "metadata": {
        "id": "JCLC10_VLxzP",
        "colab": {
          "base_uri": "https://localhost:8080/"
        },
        "outputId": "ce8d8cef-2415-46a2-95f1-cdd04ee15ec5"
      },
      "id": "JCLC10_VLxzP",
      "execution_count": null,
      "outputs": [
        {
          "output_type": "stream",
          "name": "stdout",
          "text": [
            "Doc2Vec<dm/m,d20,n5,w8,s0.001>\n"
          ]
        }
      ]
    },
    {
      "cell_type": "code",
      "source": [
        "# len(d2v_model.wv.vocab)\n",
        "len(d2v_model.wv.key_to_index)\n"
      ],
      "metadata": {
        "id": "Z701UcE6MVrm",
        "colab": {
          "base_uri": "https://localhost:8080/"
        },
        "outputId": "074cf388-1079-4249-8030-049e5efeb8be"
      },
      "id": "Z701UcE6MVrm",
      "execution_count": null,
      "outputs": [
        {
          "output_type": "execute_result",
          "data": {
            "text/plain": [
              "38752"
            ]
          },
          "metadata": {},
          "execution_count": 36
        }
      ]
    },
    {
      "cell_type": "code",
      "source": [
        "vocab_size = len(d2v_model.wv.key_to_index) + 1  # Vocabulary size + 1 for padding\n",
        "vector_size = d2v_model.vector_size  # Dimensionality of the vectors\n",
        "\n",
        "\n",
        "\n",
        "embedding_matrix = np.zeros((vocab_size, vector_size))\n",
        "\n",
        "# Populate the embedding matrix with vectors from the model\n",
        "for word, index in d2v_model.wv.key_to_index.items():\n",
        "    # The index in the embedding matrix is offset by one due to padding token at index 0\n",
        "    embedding_matrix[index] = d2v_model.wv[word]\n"
      ],
      "metadata": {
        "id": "iqR0-qUMMXsE"
      },
      "id": "iqR0-qUMMXsE",
      "execution_count": null,
      "outputs": []
    },
    {
      "cell_type": "markdown",
      "source": [
        "Measuring distance between two vectors (related to cosine similarity)¶"
      ],
      "metadata": {
        "id": "fsFg8-olNBKc"
      },
      "id": "fsFg8-olNBKc"
    },
    {
      "cell_type": "code",
      "source": [
        "d2v_model.wv.most_similar(positive=['love'], topn=10)"
      ],
      "metadata": {
        "colab": {
          "base_uri": "https://localhost:8080/"
        },
        "id": "oCFBHESmM0Sf",
        "outputId": "921509b3-38f8-4bc7-a331-9a4dc4eb758d"
      },
      "id": "oCFBHESmM0Sf",
      "execution_count": null,
      "outputs": [
        {
          "output_type": "execute_result",
          "data": {
            "text/plain": [
              "[('bittersweet', 0.842785120010376),\n",
              " ('underlined', 0.7824863791465759),\n",
              " ('joy', 0.7812088131904602),\n",
              " ('clarify', 0.7423409223556519),\n",
              " ('desire', 0.7369310855865479),\n",
              " ('becauause', 0.7327426671981812),\n",
              " ('happiness', 0.7307034134864807),\n",
              " ('ylnen', 0.7259463667869568),\n",
              " ('darling', 0.719996452331543),\n",
              " ('forever', 0.713860034942627)]"
            ]
          },
          "metadata": {},
          "execution_count": 38
        }
      ]
    },
    {
      "cell_type": "code",
      "source": [
        "d2v_model.wv.most_similar(positive=['beautiful'], topn=10)"
      ],
      "metadata": {
        "colab": {
          "base_uri": "https://localhost:8080/"
        },
        "id": "5j8GZpjVNw3z",
        "outputId": "45cba862-63ac-4e3a-a74a-b176d0b86bcb"
      },
      "id": "5j8GZpjVNw3z",
      "execution_count": null,
      "outputs": [
        {
          "output_type": "execute_result",
          "data": {
            "text/plain": [
              "[('blue', 0.8709665536880493),\n",
              " ('magical', 0.8108376264572144),\n",
              " ('lovely', 0.7904194593429565),\n",
              " ('bright', 0.7881771922111511),\n",
              " ('wakens', 0.7794892191886902),\n",
              " ('starlight', 0.7701390981674194),\n",
              " ('histories', 0.7603241801261902),\n",
              " ('tragical', 0.7471455335617065),\n",
              " ('snowblind', 0.740058422088623),\n",
              " ('wonderful', 0.7397045493125916)]"
            ]
          },
          "metadata": {},
          "execution_count": 39
        }
      ]
    },
    {
      "cell_type": "code",
      "source": [
        "d2v_model.wv.most_similar(positive=['happy'], topn=10)"
      ],
      "metadata": {
        "colab": {
          "base_uri": "https://localhost:8080/"
        },
        "id": "Xe-RkvySNzgj",
        "outputId": "a0b358d8-1a4f-4ec0-8cdb-8c4e7be7cfd3"
      },
      "id": "Xe-RkvySNzgj",
      "execution_count": null,
      "outputs": [
        {
          "output_type": "execute_result",
          "data": {
            "text/plain": [
              "[('misunderstood', 0.7950345873832703),\n",
              " ('doo', 0.7174589037895203),\n",
              " ('rusting', 0.700584352016449),\n",
              " ('extinguished', 0.6992833614349365),\n",
              " ('chelsea', 0.6972525119781494),\n",
              " ('bree', 0.6938307881355286),\n",
              " ('vanities', 0.6893981099128723),\n",
              " ('sad', 0.6862866878509521),\n",
              " ('weatherwise', 0.6849592924118042),\n",
              " ('lennon', 0.6846234202384949)]"
            ]
          },
          "metadata": {},
          "execution_count": 40
        }
      ]
    },
    {
      "cell_type": "code",
      "source": [
        "import torch\n",
        "import torch.nn as nn\n",
        "import torch.optim as optim\n",
        "import torch.nn.functional as F\n",
        "\n",
        "# Define the PyTorch LSTM Model\n",
        "class LSTMModel(nn.Module):\n",
        "    def __init__(self, vocab_size, embedding_dim, hidden_dim, dropout_prob):\n",
        "        super(LSTMModel, self).__init__()\n",
        "        self.embedding = nn.Embedding(vocab_size, embedding_dim)\n",
        "        self.lstm = nn.LSTM(embedding_dim, hidden_dim, batch_first=True)\n",
        "        self.dropout = nn.Dropout(dropout_prob)\n",
        "        self.fc = nn.Linear(hidden_dim, 1)  # Output 1 value for binary classification\n",
        "\n",
        "    def forward(self, x):\n",
        "        embedded = self.embedding(x)\n",
        "        _, (hidden, _) = self.lstm(embedded)\n",
        "        dropped_out = self.dropout(hidden[-1])\n",
        "        output = self.fc(dropped_out)\n",
        "        return output  # Output raw logits for BCEWithLogitsLoss\n",
        "\n",
        "\n",
        "# Initialize the model\n",
        "vocab_size = len(d2v_model.wv.key_to_index) + 1\n",
        "embedding_dim = d2v_model.vector_size\n",
        "hidden_dim = 10\n",
        "dropout_prob = 0.7\n",
        "\n",
        "model = LSTMModel(vocab_size, embedding_dim, hidden_dim, dropout_prob)\n",
        "\n",
        "# Load pre-trained embeddings into the model's embedding layer\n",
        "with torch.no_grad():\n",
        "    model.embedding.weight.data.copy_(torch.tensor(embedding_matrix))\n",
        "\n",
        "# Set up the optimizer\n",
        "learning_rate = 0.001\n",
        "optimizer = optim.Adam(model.parameters(), lr=learning_rate)\n",
        "\n",
        "# Specify loss function for binary classification with logits\n",
        "criterion = nn.BCEWithLogitsLoss()\n"
      ],
      "metadata": {
        "id": "uoj7k2MyOHLG"
      },
      "id": "uoj7k2MyOHLG",
      "execution_count": null,
      "outputs": []
    },
    {
      "cell_type": "code",
      "source": [
        "torch.save(model, 'lstm_model.pth')"
      ],
      "metadata": {
        "id": "JTTwE7vN67AR"
      },
      "id": "JTTwE7vN67AR",
      "execution_count": null,
      "outputs": []
    },
    {
      "cell_type": "code",
      "source": [
        "Y = input_data['positivity'].values.reshape(-1, 1)  # Reshape for appropriate dimensionality\n",
        "X_train, X_test, Y_train, Y_test = train_test_split(X, Y, test_size=0.15, random_state=42)\n",
        "\n",
        "print(\"X_train shape:\", X_train.shape, \"Y_train shape:\", Y_train.shape)\n",
        "print(\"X_test shape:\", X_test.shape, \"Y_test shape:\", Y_test.shape)"
      ],
      "metadata": {
        "colab": {
          "base_uri": "https://localhost:8080/"
        },
        "id": "dzp3L228WQAg",
        "outputId": "25385583-2737-413c-d7c7-87d5c378ad72"
      },
      "id": "dzp3L228WQAg",
      "execution_count": null,
      "outputs": [
        {
          "output_type": "stream",
          "name": "stdout",
          "text": [
            "X_train shape: (14322, 100) Y_train shape: (14322, 1)\n",
            "X_test shape: (2528, 100) Y_test shape: (2528, 1)\n"
          ]
        }
      ]
    },
    {
      "cell_type": "code",
      "source": [
        "import torch\n",
        "from torch.utils.data import TensorDataset, DataLoader\n",
        "\n",
        "X_train_tensor = torch.tensor(X_train, dtype=torch.long)\n",
        "Y_train_tensor = torch.tensor(Y_train, dtype=torch.float32)\n",
        "\n",
        "train_dataset = TensorDataset(X_train_tensor, Y_train_tensor)\n",
        "train_loader = DataLoader(train_dataset, batch_size=32, shuffle=True)\n",
        "\n",
        "epoch_losses = []\n",
        "epoch_accuracies = []\n",
        "\n",
        "X_test_tensor = torch.tensor(X_test, dtype=torch.long)\n",
        "Y_test_tensor = torch.tensor(Y_test, dtype=torch.float32)\n",
        "\n",
        "test_dataset = TensorDataset(X_test_tensor, Y_test_tensor)\n",
        "test_loader = DataLoader(test_dataset, batch_size=2048, shuffle=True)\n",
        "\n",
        "epoch_test_losses = []\n",
        "epoch_test_accuracies = []\n",
        "\n",
        "epochs = 30  # Define the number of epochs\n",
        "\n",
        "for epoch in range(epochs):\n",
        "    model.train()\n",
        "    train_loss = 0.0\n",
        "    correct = 0\n",
        "    total = 0\n",
        "\n",
        "    for inputs, labels in train_loader:\n",
        "        optimizer.zero_grad()\n",
        "\n",
        "        # Before model(inputs)\n",
        "        if inputs.max() >= vocab_size:\n",
        "            raise ValueError(\"An input index is exceeding the vocabulary size.\")\n",
        "\n",
        "        outputs = model(inputs)\n",
        "        loss = criterion(outputs, labels)\n",
        "        loss.backward()\n",
        "        optimizer.step()\n",
        "        train_loss += loss.item()\n",
        "        predicted = (outputs > 0).float()\n",
        "        total += labels.size(0)\n",
        "        correct += (predicted == labels).sum().item()\n",
        "\n",
        "    train_accuracy = correct / total\n",
        "    epoch_losses.append(train_loss / len(train_loader))\n",
        "    epoch_accuracies.append(train_accuracy)\n",
        "\n",
        "    # Evaluation phase\n",
        "    model.eval()\n",
        "    with torch.no_grad():\n",
        "        test_loss = 0.0\n",
        "        correct = 0\n",
        "        total = 0\n",
        "\n",
        "        for inputs, labels in test_loader:\n",
        "            outputs = model(inputs)\n",
        "            loss = criterion(outputs, labels)\n",
        "            test_loss += loss.item()\n",
        "            predicted = (outputs > 0).float()\n",
        "            total += labels.size(0)\n",
        "            correct += (predicted == labels).sum().item()\n",
        "\n",
        "        test_accuracy = correct / total\n",
        "        epoch_test_losses.append(test_loss / len(test_loader))\n",
        "        epoch_test_accuracies.append(test_accuracy)\n",
        "\n",
        "    print(f'Epoch {epoch + 1}/{epochs} - Train Loss: {epoch_losses[-1]:.4f}, Train Accuracy: {epoch_accuracies[-1]:.4f}, Test Loss: {epoch_test_losses[-1]:.4f}, Test Accuracy: {epoch_test_accuracies[-1]:.4f}')\n"
      ],
      "metadata": {
        "colab": {
          "base_uri": "https://localhost:8080/"
        },
        "id": "xc-OmhEBWliG",
        "outputId": "be8d180d-3c95-4eec-e883-0873c37a6a38"
      },
      "id": "xc-OmhEBWliG",
      "execution_count": null,
      "outputs": [
        {
          "output_type": "stream",
          "name": "stdout",
          "text": [
            "Epoch 1/30 - Train Loss: 0.6977, Train Accuracy: 0.4958, Test Loss: 0.6942, Test Accuracy: 0.5115\n",
            "Epoch 2/30 - Train Loss: 0.6939, Train Accuracy: 0.5068, Test Loss: 0.6940, Test Accuracy: 0.4945\n",
            "Epoch 3/30 - Train Loss: 0.6933, Train Accuracy: 0.5062, Test Loss: 0.6936, Test Accuracy: 0.4968\n",
            "Epoch 4/30 - Train Loss: 0.6930, Train Accuracy: 0.5072, Test Loss: 0.6941, Test Accuracy: 0.4968\n",
            "Epoch 5/30 - Train Loss: 0.6915, Train Accuracy: 0.5197, Test Loss: 0.6944, Test Accuracy: 0.4972\n",
            "Epoch 6/30 - Train Loss: 0.6901, Train Accuracy: 0.5263, Test Loss: 0.6948, Test Accuracy: 0.5051\n",
            "Epoch 7/30 - Train Loss: 0.6896, Train Accuracy: 0.5271, Test Loss: 0.6948, Test Accuracy: 0.5103\n",
            "Epoch 8/30 - Train Loss: 0.6866, Train Accuracy: 0.5414, Test Loss: 0.6952, Test Accuracy: 0.5198\n",
            "Epoch 9/30 - Train Loss: 0.6816, Train Accuracy: 0.5543, Test Loss: 0.6940, Test Accuracy: 0.5079\n",
            "Epoch 10/30 - Train Loss: 0.6755, Train Accuracy: 0.5748, Test Loss: 0.6991, Test Accuracy: 0.5186\n",
            "Epoch 11/30 - Train Loss: 0.6705, Train Accuracy: 0.5845, Test Loss: 0.6975, Test Accuracy: 0.5265\n",
            "Epoch 12/30 - Train Loss: 0.6605, Train Accuracy: 0.5998, Test Loss: 0.6991, Test Accuracy: 0.5245\n",
            "Epoch 13/30 - Train Loss: 0.6521, Train Accuracy: 0.6162, Test Loss: 0.6983, Test Accuracy: 0.5269\n",
            "Epoch 14/30 - Train Loss: 0.6419, Train Accuracy: 0.6295, Test Loss: 0.7135, Test Accuracy: 0.5297\n",
            "Epoch 15/30 - Train Loss: 0.6333, Train Accuracy: 0.6426, Test Loss: 0.7155, Test Accuracy: 0.5320\n",
            "Epoch 16/30 - Train Loss: 0.6205, Train Accuracy: 0.6581, Test Loss: 0.7204, Test Accuracy: 0.5384\n",
            "Epoch 17/30 - Train Loss: 0.6056, Train Accuracy: 0.6732, Test Loss: 0.7203, Test Accuracy: 0.5368\n",
            "Epoch 18/30 - Train Loss: 0.5913, Train Accuracy: 0.6835, Test Loss: 0.7428, Test Accuracy: 0.5344\n",
            "Epoch 19/30 - Train Loss: 0.5872, Train Accuracy: 0.6925, Test Loss: 0.7325, Test Accuracy: 0.5320\n",
            "Epoch 20/30 - Train Loss: 0.5721, Train Accuracy: 0.7051, Test Loss: 0.7551, Test Accuracy: 0.5467\n",
            "Epoch 21/30 - Train Loss: 0.5651, Train Accuracy: 0.7099, Test Loss: 0.7509, Test Accuracy: 0.5407\n",
            "Epoch 22/30 - Train Loss: 0.5475, Train Accuracy: 0.7257, Test Loss: 0.7999, Test Accuracy: 0.5435\n",
            "Epoch 23/30 - Train Loss: 0.5342, Train Accuracy: 0.7399, Test Loss: 0.7911, Test Accuracy: 0.5439\n",
            "Epoch 24/30 - Train Loss: 0.5361, Train Accuracy: 0.7372, Test Loss: 0.7720, Test Accuracy: 0.5392\n",
            "Epoch 25/30 - Train Loss: 0.5258, Train Accuracy: 0.7398, Test Loss: 0.7886, Test Accuracy: 0.5403\n",
            "Epoch 26/30 - Train Loss: 0.5189, Train Accuracy: 0.7448, Test Loss: 0.8106, Test Accuracy: 0.5494\n",
            "Epoch 27/30 - Train Loss: 0.5029, Train Accuracy: 0.7588, Test Loss: 0.8445, Test Accuracy: 0.5447\n",
            "Epoch 28/30 - Train Loss: 0.4886, Train Accuracy: 0.7720, Test Loss: 0.8375, Test Accuracy: 0.5431\n",
            "Epoch 29/30 - Train Loss: 0.4738, Train Accuracy: 0.7824, Test Loss: 0.8985, Test Accuracy: 0.5459\n",
            "Epoch 30/30 - Train Loss: 0.4704, Train Accuracy: 0.7833, Test Loss: 0.9028, Test Accuracy: 0.5530\n"
          ]
        }
      ]
    },
    {
      "cell_type": "code",
      "source": [
        "# Plotting training and test accuracies\n",
        "plt.figure()\n",
        "plt.plot(range(1, epochs + 1), epoch_accuracies, label='Training Accuracy')\n",
        "plt.plot(range(1, epochs + 1), epoch_test_accuracies, label='Test Accuracy')\n",
        "plt.title('Model Accuracy')\n",
        "plt.ylabel('Accuracy')\n",
        "plt.xlabel('Epoch')\n",
        "plt.legend(loc='upper left')\n",
        "plt.grid(True)\n",
        "plt.show()\n",
        "\n",
        "# Plotting training and test losses\n",
        "plt.figure()\n",
        "plt.plot(range(1, epochs + 1), epoch_losses, label='Training Loss')\n",
        "plt.plot(range(1, epochs + 1), epoch_test_losses, label='Test Loss')\n",
        "plt.title('Model Loss')\n",
        "plt.ylabel('Loss')\n",
        "plt.xlabel('Epoch')\n",
        "plt.legend(loc='upper left')\n",
        "plt.grid(True)\n",
        "plt.show()"
      ],
      "metadata": {
        "id": "OkQ8aTwVWv-S",
        "colab": {
          "base_uri": "https://localhost:8080/",
          "height": 927
        },
        "outputId": "b8849fc2-5f58-4e45-88e8-e6a27022cad5"
      },
      "id": "OkQ8aTwVWv-S",
      "execution_count": null,
      "outputs": [
        {
          "output_type": "display_data",
          "data": {
            "text/plain": [
              "<Figure size 640x480 with 1 Axes>"
            ],
            "image/png": "[encoded data removed]"
          },
          "metadata": {}
        },
        {
          "output_type": "display_data",
          "data": {
            "text/plain": [
              "<Figure size 640x480 with 1 Axes>"
            ],
            "image/png": "[encoded data removed]"
          },
          "metadata": {}
        }
      ]
    },
    {
      "cell_type": "code",
      "source": [
        "def evaluate_model(model, data_loader, criterion):\n",
        "    model.eval()  # Set the model to evaluation mode\n",
        "    total = 0\n",
        "    correct = 0\n",
        "    running_loss = 0.0\n",
        "\n",
        "    with torch.no_grad():\n",
        "        for inputs, labels in data_loader:\n",
        "            outputs = model(inputs)\n",
        "            loss = criterion(outputs, labels)\n",
        "            running_loss += loss.item()\n",
        "\n",
        "            predicted = (outputs > 0).float()  # Using 0 as threshold for logits\n",
        "            total += labels.size(0)\n",
        "            correct += (predicted == labels).sum().item()\n",
        "\n",
        "    accuracy = correct / total\n",
        "    average_loss = running_loss / len(data_loader)\n",
        "    return average_loss, accuracy\n",
        "\n",
        "# Evaluate on training and test data\n",
        "train_loss, train_acc = evaluate_model(model, train_loader, criterion)\n",
        "test_loss, test_acc = evaluate_model(model, test_loader, criterion)\n",
        "\n",
        "print('Train Accuracy: %.3f, Test Accuracy: %.4f' % (train_acc, test_acc))\n",
        "print('Train Loss: %.3f, Test Loss: %.4f' % (train_loss, test_loss))\n"
      ],
      "metadata": {
        "id": "VV9tVx8SWzX7",
        "colab": {
          "base_uri": "https://localhost:8080/"
        },
        "outputId": "38f89882-9ea3-47c2-9736-dacdbe892fde"
      },
      "id": "VV9tVx8SWzX7",
      "execution_count": null,
      "outputs": [
        {
          "output_type": "stream",
          "name": "stdout",
          "text": [
            "Train Accuracy: 0.835, Test Accuracy: 0.5530\n",
            "Train Loss: 0.391, Test Loss: 0.8963\n"
          ]
        }
      ]
    },
    {
      "cell_type": "code",
      "source": [
        "import torch\n",
        "import numpy as np\n",
        "\n",
        "def predict(model, data_loader):\n",
        "    model.eval()\n",
        "    predictions = []\n",
        "    probabilities = []\n",
        "\n",
        "    with torch.no_grad():\n",
        "        for inputs in data_loader:\n",
        "            outputs = model(inputs)  # Get raw logits\n",
        "            probs = torch.sigmoid(outputs)  # Convert logits to probabilities\n",
        "            predictions.extend(outputs > 0)  # Using 0 as the threshold\n",
        "            probabilities.extend(probs)\n",
        "\n",
        "    # Convert lists of tensors to a single tensor\n",
        "    predictions = torch.cat(predictions).numpy()\n",
        "    probabilities = torch.cat(probabilities).numpy()\n",
        "\n",
        "    return probabilities, predictions\n",
        "\n",
        "test_loader = DataLoader(X_test_tensor, batch_size=32, shuffle=False)\n",
        "\n",
        "# Using the model and test_loader to predict\n",
        "yhat_probs, yhat_classes = predict(model, test_loader)\n",
        "\n",
        "print(\"Probabilities:\\n\", yhat_probs)\n",
        "print(\"Predicted Classes:\\n\", yhat_classes)\n"
      ],
      "metadata": {
        "id": "e70JzQwJZkjm",
        "colab": {
          "base_uri": "https://localhost:8080/"
        },
        "outputId": "d6d98fb2-b0d7-496e-88e4-43d385053fac"
      },
      "id": "e70JzQwJZkjm",
      "execution_count": null,
      "outputs": [
        {
          "output_type": "stream",
          "name": "stdout",
          "text": [
            "Probabilities:\n",
            " [0.7771525  0.83781904 0.7214005  ... 0.43772754 0.5596296  0.02267273]\n",
            "Predicted Classes:\n",
            " [ True  True  True ... False  True False]\n"
          ]
        }
      ]
    },
    {
      "cell_type": "code",
      "source": [
        "rounded_labels = Y_test  # Assuming Y_test contains values 0 and 1 directly\n",
        "print(rounded_labels)\n",
        "\n",
        "print(\"Shape of Y_test:\", Y_test.shape)\n",
        "print(\"Sample labels from Y_test:\", Y_test[:5])\n"
      ],
      "metadata": {
        "colab": {
          "base_uri": "https://localhost:8080/"
        },
        "id": "NH2yXD2-ZubV",
        "outputId": "120297a4-cd07-4e01-b7b2-d54e3a6f49a3"
      },
      "id": "NH2yXD2-ZubV",
      "execution_count": null,
      "outputs": [
        {
          "output_type": "stream",
          "name": "stdout",
          "text": [
            "[[0]\n",
            " [1]\n",
            " [1]\n",
            " ...\n",
            " [0]\n",
            " [0]\n",
            " [0]]\n",
            "Shape of Y_test: (2528, 1)\n",
            "Sample labels from Y_test: [[0]\n",
            " [1]\n",
            " [1]\n",
            " [0]\n",
            " [1]]\n"
          ]
        }
      ]
    },
    {
      "cell_type": "code",
      "source": [
        "from sklearn.metrics import confusion_matrix\n",
        "cm = confusion_matrix(rounded_labels, yhat_classes)\n",
        "cm\n"
      ],
      "metadata": {
        "colab": {
          "base_uri": "https://localhost:8080/"
        },
        "id": "cO833dKPaRO9",
        "outputId": "c30a67b1-acd4-42e2-ede6-c4110a947dd2"
      },
      "id": "cO833dKPaRO9",
      "execution_count": null,
      "outputs": [
        {
          "output_type": "execute_result",
          "data": {
            "text/plain": [
              "array([[632, 610],\n",
              "       [520, 766]])"
            ]
          },
          "metadata": {},
          "execution_count": 47
        }
      ]
    },
    {
      "cell_type": "code",
      "source": [
        "from sklearn.metrics import confusion_matrix\n",
        "import seaborn as sns\n",
        "\n",
        "lstm_val = confusion_matrix(rounded_labels, yhat_classes)\n",
        "f, ax = plt.subplots(figsize=(5,5))\n",
        "sns.heatmap(lstm_val, annot=True, linewidth=0.7, linecolor='cyan', fmt='g', ax=ax, cmap=\"BuPu\")\n",
        "plt.title('LSTM Classification Confusion Matrix')\n",
        "plt.xlabel('Y predict')\n",
        "plt.ylabel('Y test')\n",
        "plt.show()"
      ],
      "metadata": {
        "colab": {
          "base_uri": "https://localhost:8080/",
          "height": 487
        },
        "id": "xFZCGgAuag6Q",
        "outputId": "8591d444-d3e2-49fa-eb31-f635eb2d68df"
      },
      "id": "xFZCGgAuag6Q",
      "execution_count": null,
      "outputs": [
        {
          "output_type": "display_data",
          "data": {
            "text/plain": [
              "<Figure size 500x500 with 2 Axes>"
            ],
            "image/png": "[encoded data removed]"
          },
          "metadata": {}
        }
      ]
    },
    {
      "cell_type": "code",
      "source": [
        "from sklearn.metrics import f1_score\n",
        "\n",
        "# Calculate F1 Score for binary classification\n",
        "f1 = f1_score(rounded_labels, yhat_classes, average='binary')  #\n",
        "print(\"F1 Score: {:.2f}\".format(f1))"
      ],
      "metadata": {
        "colab": {
          "base_uri": "https://localhost:8080/"
        },
        "id": "Lqs0h4MFJHBe",
        "outputId": "2b9bd316-eed7-49e9-f7da-422cf96f2199"
      },
      "id": "Lqs0h4MFJHBe",
      "execution_count": null,
      "outputs": [
        {
          "output_type": "stream",
          "name": "stdout",
          "text": [
            "F1 Score: 0.58\n"
          ]
        }
      ]
    },
    {
      "cell_type": "markdown",
      "source": [
        "#VALIDATION"
      ],
      "metadata": {
        "id": "RBY8yVtLarSL"
      },
      "id": "RBY8yVtLarSL"
    },
    {
      "cell_type": "code",
      "source": [
        "# Choose a validation size that is less than the number of test samples\n",
        "validation_size = 150  # Make sure this number is less than num_test_samples\n",
        "\n",
        "# Split the test set into new test set and validation set\n",
        "X_validate = X_test[-validation_size:]\n",
        "Y_validate = Y_test[-validation_size:]\n",
        "\n",
        "# Convert validation data to tensors\n",
        "X_validate_tensor = torch.tensor(X_validate, dtype=torch.long)\n",
        "Y_validate_tensor = torch.tensor(Y_validate, dtype=torch.float32)\n",
        "\n",
        "# Create a DataLoader for the validation set\n",
        "validate_loader = DataLoader(TensorDataset(X_validate_tensor, Y_validate_tensor), batch_size=32, shuffle=True)\n",
        "\n",
        "# Evaluate on validation data\n",
        "val_loss, val_acc = evaluate_model(model, validate_loader, criterion)\n",
        "\n",
        "print('Validation Loss: %.3f, Validation Accuracy: %.4f' % (val_loss, val_acc))\n"
      ],
      "metadata": {
        "id": "JofGJiUjasiY",
        "colab": {
          "base_uri": "https://localhost:8080/"
        },
        "outputId": "f0a47564-bddc-458c-8453-8cb475dc56dc"
      },
      "id": "JofGJiUjasiY",
      "execution_count": null,
      "outputs": [
        {
          "output_type": "stream",
          "name": "stdout",
          "text": [
            "Validation Loss: 0.825, Validation Accuracy: 0.5933\n"
          ]
        }
      ]
    },
    {
      "cell_type": "code",
      "source": [
        "torch.save(model, 'model.pth')"
      ],
      "metadata": {
        "id": "E43HnIoJbPj7"
      },
      "id": "E43HnIoJbPj7",
      "execution_count": null,
      "outputs": []
    },
    {
      "cell_type": "code",
      "source": [
        "model = torch.load('model.pth')\n",
        "\n",
        "lyric = ['Oh It must be more than I need you More than I love you Be more than wishes on stars High above you If words could just hold you Tell me you feel me Oh, just to know you Tell me you see me I couldnt have said it (said it)You must have just read it (read it) In my eyes Darling, please Let it be more Be more Be more It must be more than I want you Be more than dancing in raindrops Falling to touch you, whoa, just to touch you, oh, just to touch you']\n",
        "seq = tokenizer.texts_to_sequences(lyric)\n",
        "\n",
        "padded = pad_sequences(seq, maxlen=X.shape[1], dtype='int32', value=0)"
      ],
      "metadata": {
        "id": "LkzRcNdzc3sE"
      },
      "id": "LkzRcNdzc3sE",
      "execution_count": null,
      "outputs": []
    },
    {
      "cell_type": "code",
      "source": [
        "# Convert the padded data to a PyTorch tensor\n",
        "padded_tensor = torch.tensor(padded, dtype=torch.long)  # Ensure it matches the expected input datatype of the model\n",
        "\n",
        "# Pass the tensor to the model to get logits\n",
        "with torch.no_grad():  # No need to track gradients for inference\n",
        "    logits = model(padded_tensor)\n",
        "\n",
        "# Apply sigmoid to convert logits to probabilities\n",
        "probabilities = torch.sigmoid(logits)\n",
        "\n",
        "# Threshold probabilities at 0.5 to determine class labels\n",
        "predicted_classes = (probabilities > 0.5).long()\n",
        "\n",
        "# Assuming your classes are labeled as '0' and '1'\n",
        "labels = ['0', '1']\n",
        "predicted_labels = [labels[idx] for idx in predicted_classes.view(-1).numpy()]  # Flatten tensor and convert to numpy array\n",
        "\n",
        "# Print the probabilities and predicted labels\n",
        "print(\"Probabilities:\", probabilities)\n",
        "print(\"Predicted labels:\", predicted_labels)"
      ],
      "metadata": {
        "id": "omXITqmQV-6l",
        "colab": {
          "base_uri": "https://localhost:8080/"
        },
        "outputId": "4cc903df-7ad4-4ec5-f9ad-f79fd14e00ee"
      },
      "id": "omXITqmQV-6l",
      "execution_count": null,
      "outputs": [
        {
          "output_type": "stream",
          "name": "stdout",
          "text": [
            "Probabilities: tensor([[0.6980]])\n",
            "Predicted labels: ['1']\n"
          ]
        }
      ]
    },
    {
      "cell_type": "code",
      "source": [],
      "metadata": {
        "id": "bkxkPvLNZwCy"
      },
      "id": "bkxkPvLNZwCy",
      "execution_count": null,
      "outputs": []
    }
  ],
  "metadata": {
    "kernelspec": {
      "display_name": "Python 3",
      "name": "python3"
    },
    "language_info": {
      "codemirror_mode": {
        "name": "ipython",
        "version": 3
      },
      "file_extension": ".py",
      "mimetype": "text/x-python",
      "name": "python",
      "nbconvert_exporter": "python",
      "pygments_lexer": "ipython3",
      "version": "3.11.5"
    },
    "colab": {
      "provenance": [],
      "gpuType": "T4",
      "toc_visible": true,
      "include_colab_link": true
    },
    "accelerator": "GPU"
  },
  "nbformat": 4,
  "nbformat_minor": 5
}